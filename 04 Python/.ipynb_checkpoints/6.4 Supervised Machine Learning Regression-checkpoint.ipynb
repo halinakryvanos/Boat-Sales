{
 "cells": [
  {
   "cell_type": "markdown",
   "id": "bb5fe8fe",
   "metadata": {},
   "source": [
    "## Machine Learning  \n",
    "This script contains the following:  \n",
    "1. Importing libraries and data  \n",
    "2. Data cleaning  \n",
    "3. Data prep for regression analysis  \n",
    "4. Regression analysis  "
   ]
  },
  {
   "cell_type": "markdown",
   "id": "799bc8c1",
   "metadata": {},
   "source": [
    "### 1. Importing libraries and data"
   ]
  },
  {
   "cell_type": "code",
   "execution_count": 1,
   "id": "70315dc6",
   "metadata": {
    "ExecuteTime": {
     "end_time": "2022-12-29T09:11:44.822518Z",
     "start_time": "2022-12-29T09:11:40.845778Z"
    }
   },
   "outputs": [],
   "source": [
    "import pandas as pd\n",
    "import numpy as np\n",
    "import seaborn as sns\n",
    "import matplotlib\n",
    "import matplotlib.pyplot as plt\n",
    "import os\n",
    "import sklearn\n",
    "from sklearn.model_selection import train_test_split \n",
    "from sklearn.linear_model import LinearRegression\n",
    "from sklearn.metrics import mean_squared_error, r2_score"
   ]
  },
  {
   "cell_type": "code",
   "execution_count": 2,
   "id": "4c2d3860",
   "metadata": {
    "ExecuteTime": {
     "end_time": "2022-12-29T09:12:10.188456Z",
     "start_time": "2022-12-29T09:12:10.169698Z"
    }
   },
   "outputs": [],
   "source": [
    "# This option ensures that the graphs you create are displayed within the notebook without the need to \"call\" them specifically.\n",
    "%matplotlib inline"
   ]
  },
  {
   "cell_type": "code",
   "execution_count": 3,
   "id": "602685c2",
   "metadata": {
    "ExecuteTime": {
     "end_time": "2022-12-29T09:12:40.685652Z",
     "start_time": "2022-12-29T09:12:40.681165Z"
    }
   },
   "outputs": [],
   "source": [
    "# create a path\n",
    "path = r'/Users/macbook/Library/CloudStorage/OneDrive-Personal/Data Analisys/Boat Sales'"
   ]
  },
  {
   "cell_type": "code",
   "execution_count": 6,
   "id": "2f86d709",
   "metadata": {
    "ExecuteTime": {
     "end_time": "2022-12-29T09:14:59.112866Z",
     "start_time": "2022-12-29T09:14:59.079870Z"
    }
   },
   "outputs": [],
   "source": [
    "# load data\n",
    "df = pd.read_csv(os.path.join(path,'02 Data', 'Prepared Data', 'boat_data_cleaned.csv'), index_col = False)"
   ]
  },
  {
   "cell_type": "markdown",
   "id": "e89f99f0",
   "metadata": {},
   "source": [
    "### 2. Data Cleaning"
   ]
  },
  {
   "cell_type": "code",
   "execution_count": 7,
   "id": "96cec1e9",
   "metadata": {
    "ExecuteTime": {
     "end_time": "2022-12-29T09:16:51.352077Z",
     "start_time": "2022-12-29T09:16:51.343726Z"
    }
   },
   "outputs": [
    {
     "data": {
      "text/plain": [
       "Index(['Unnamed: 0', 'Boat Type', 'Manufacturer', 'Type', 'Year Built',\n",
       "       'Length', 'Width', 'Material', 'Number of views last 7 days',\n",
       "       'EUR Price', 'Country', 'City'],\n",
       "      dtype='object')"
      ]
     },
     "execution_count": 7,
     "metadata": {},
     "output_type": "execute_result"
    }
   ],
   "source": [
    "df.columns"
   ]
  },
  {
   "cell_type": "code",
   "execution_count": 8,
   "id": "e0270d48",
   "metadata": {
    "ExecuteTime": {
     "end_time": "2022-12-29T09:17:08.995048Z",
     "start_time": "2022-12-29T09:17:08.964854Z"
    }
   },
   "outputs": [
    {
     "data": {
      "text/html": [
       "<div>\n",
       "<style scoped>\n",
       "    .dataframe tbody tr th:only-of-type {\n",
       "        vertical-align: middle;\n",
       "    }\n",
       "\n",
       "    .dataframe tbody tr th {\n",
       "        vertical-align: top;\n",
       "    }\n",
       "\n",
       "    .dataframe thead th {\n",
       "        text-align: right;\n",
       "    }\n",
       "</style>\n",
       "<table border=\"1\" class=\"dataframe\">\n",
       "  <thead>\n",
       "    <tr style=\"text-align: right;\">\n",
       "      <th></th>\n",
       "      <th>Unnamed: 0</th>\n",
       "      <th>Boat Type</th>\n",
       "      <th>Manufacturer</th>\n",
       "      <th>Type</th>\n",
       "      <th>Year Built</th>\n",
       "      <th>Length</th>\n",
       "      <th>Width</th>\n",
       "      <th>Material</th>\n",
       "      <th>Number of views last 7 days</th>\n",
       "      <th>EUR Price</th>\n",
       "      <th>Country</th>\n",
       "      <th>City</th>\n",
       "    </tr>\n",
       "  </thead>\n",
       "  <tbody>\n",
       "    <tr>\n",
       "      <th>0</th>\n",
       "      <td>1</td>\n",
       "      <td>Center console boat</td>\n",
       "      <td>Terhi power boats</td>\n",
       "      <td>new boat from stock</td>\n",
       "      <td>2020</td>\n",
       "      <td>4.00</td>\n",
       "      <td>1.50</td>\n",
       "      <td>Thermoplastic</td>\n",
       "      <td>75</td>\n",
       "      <td>3490.0</td>\n",
       "      <td>Germany</td>\n",
       "      <td>BÃ¶nningstedt</td>\n",
       "    </tr>\n",
       "    <tr>\n",
       "      <th>1</th>\n",
       "      <td>4</td>\n",
       "      <td>Fishing Boat</td>\n",
       "      <td>Linder power boats</td>\n",
       "      <td>new boat from stock</td>\n",
       "      <td>2019</td>\n",
       "      <td>3.55</td>\n",
       "      <td>1.46</td>\n",
       "      <td>Aluminium</td>\n",
       "      <td>58</td>\n",
       "      <td>3399.0</td>\n",
       "      <td>Germany</td>\n",
       "      <td>Bayern</td>\n",
       "    </tr>\n",
       "    <tr>\n",
       "      <th>2</th>\n",
       "      <td>10</td>\n",
       "      <td>Fishing Boat</td>\n",
       "      <td>Terhi power boats</td>\n",
       "      <td>Used boat,Electric</td>\n",
       "      <td>1987</td>\n",
       "      <td>4.35</td>\n",
       "      <td>1.75</td>\n",
       "      <td>GRP</td>\n",
       "      <td>239</td>\n",
       "      <td>3570.0</td>\n",
       "      <td>Switzerland</td>\n",
       "      <td>Seengen</td>\n",
       "    </tr>\n",
       "    <tr>\n",
       "      <th>3</th>\n",
       "      <td>12</td>\n",
       "      <td>Sport Boat</td>\n",
       "      <td>GS Nautica power boats</td>\n",
       "      <td>Used boat</td>\n",
       "      <td>2004</td>\n",
       "      <td>4.70</td>\n",
       "      <td>2.00</td>\n",
       "      <td>GRP</td>\n",
       "      <td>69</td>\n",
       "      <td>3500.0</td>\n",
       "      <td>Italy</td>\n",
       "      <td>Lake Garda</td>\n",
       "    </tr>\n",
       "    <tr>\n",
       "      <th>4</th>\n",
       "      <td>13</td>\n",
       "      <td>Runabout</td>\n",
       "      <td>Kimple power boats</td>\n",
       "      <td>new boat from stock</td>\n",
       "      <td>2020</td>\n",
       "      <td>4.40</td>\n",
       "      <td>1.65</td>\n",
       "      <td>Aluminium</td>\n",
       "      <td>113</td>\n",
       "      <td>4692.0</td>\n",
       "      <td>Switzerland</td>\n",
       "      <td>Zugersee</td>\n",
       "    </tr>\n",
       "    <tr>\n",
       "      <th>5</th>\n",
       "      <td>14</td>\n",
       "      <td>Fishing Boat</td>\n",
       "      <td>Italmarine power boats</td>\n",
       "      <td>Used boat,Unleaded</td>\n",
       "      <td>1997</td>\n",
       "      <td>3.72</td>\n",
       "      <td>1.33</td>\n",
       "      <td>Aluminium</td>\n",
       "      <td>413</td>\n",
       "      <td>4590.0</td>\n",
       "      <td>Switzerland</td>\n",
       "      <td>VierwaldstÃ¤ttersee</td>\n",
       "    </tr>\n",
       "    <tr>\n",
       "      <th>6</th>\n",
       "      <td>18</td>\n",
       "      <td>Pilothouse</td>\n",
       "      <td>BÃ©nÃ©teau power boats</td>\n",
       "      <td>Used boat,Diesel</td>\n",
       "      <td>1981</td>\n",
       "      <td>8.00</td>\n",
       "      <td>2.84</td>\n",
       "      <td>PVC</td>\n",
       "      <td>265</td>\n",
       "      <td>4000.0</td>\n",
       "      <td>France</td>\n",
       "      <td>MARTGUES, MARTIGUES</td>\n",
       "    </tr>\n",
       "    <tr>\n",
       "      <th>7</th>\n",
       "      <td>20</td>\n",
       "      <td>Fishing Boat</td>\n",
       "      <td>Linder power boats</td>\n",
       "      <td>new boat from stock</td>\n",
       "      <td>2019</td>\n",
       "      <td>3.55</td>\n",
       "      <td>1.46</td>\n",
       "      <td>Aluminium</td>\n",
       "      <td>69</td>\n",
       "      <td>3999.0</td>\n",
       "      <td>Germany</td>\n",
       "      <td>Bayern</td>\n",
       "    </tr>\n",
       "    <tr>\n",
       "      <th>8</th>\n",
       "      <td>22</td>\n",
       "      <td>Sport Boat</td>\n",
       "      <td>Linder power boats</td>\n",
       "      <td>new boat from stock,Unleaded</td>\n",
       "      <td>2020</td>\n",
       "      <td>4.31</td>\n",
       "      <td>1.64</td>\n",
       "      <td>Aluminium</td>\n",
       "      <td>90</td>\n",
       "      <td>3930.0</td>\n",
       "      <td>Germany</td>\n",
       "      <td>Nordrhein-Westfalen</td>\n",
       "    </tr>\n",
       "    <tr>\n",
       "      <th>9</th>\n",
       "      <td>23</td>\n",
       "      <td>Sport Boat</td>\n",
       "      <td>Kammin power boats</td>\n",
       "      <td>Used boat,Unleaded</td>\n",
       "      <td>1979</td>\n",
       "      <td>5.60</td>\n",
       "      <td>2.10</td>\n",
       "      <td>GRP</td>\n",
       "      <td>98</td>\n",
       "      <td>3900.0</td>\n",
       "      <td>Germany</td>\n",
       "      <td>BOOTSSERVICE ENK IN TREIS KARDEN, BOOTSSERVIC...</td>\n",
       "    </tr>\n",
       "    <tr>\n",
       "      <th>10</th>\n",
       "      <td>25</td>\n",
       "      <td>Fishing Boat</td>\n",
       "      <td>Bucher power boats</td>\n",
       "      <td>Used boat,Unleaded</td>\n",
       "      <td>1998</td>\n",
       "      <td>5.70</td>\n",
       "      <td>1.55</td>\n",
       "      <td>GRP</td>\n",
       "      <td>160</td>\n",
       "      <td>4284.0</td>\n",
       "      <td>Switzerland</td>\n",
       "      <td>Diessenhofen</td>\n",
       "    </tr>\n",
       "    <tr>\n",
       "      <th>11</th>\n",
       "      <td>27</td>\n",
       "      <td>Fishing Boat</td>\n",
       "      <td>Linder power boats</td>\n",
       "      <td>new boat from stock</td>\n",
       "      <td>2018</td>\n",
       "      <td>3.55</td>\n",
       "      <td>1.46</td>\n",
       "      <td>Aluminium</td>\n",
       "      <td>130</td>\n",
       "      <td>4110.6</td>\n",
       "      <td>Switzerland</td>\n",
       "      <td>VierwaldstÃ¤ttersee</td>\n",
       "    </tr>\n",
       "    <tr>\n",
       "      <th>12</th>\n",
       "      <td>29</td>\n",
       "      <td>Fishing Boat</td>\n",
       "      <td>Terhi power boats</td>\n",
       "      <td>new boat from stock</td>\n",
       "      <td>2020</td>\n",
       "      <td>4.01</td>\n",
       "      <td>1.50</td>\n",
       "      <td>Thermoplastic</td>\n",
       "      <td>512</td>\n",
       "      <td>4054.5</td>\n",
       "      <td>Switzerland</td>\n",
       "      <td>Horgen</td>\n",
       "    </tr>\n",
       "    <tr>\n",
       "      <th>13</th>\n",
       "      <td>30</td>\n",
       "      <td>Sport Boat</td>\n",
       "      <td>MÃ¤ndli power boats</td>\n",
       "      <td>Used boat</td>\n",
       "      <td>1996</td>\n",
       "      <td>4.84</td>\n",
       "      <td>1.58</td>\n",
       "      <td>GRP</td>\n",
       "      <td>202</td>\n",
       "      <td>4029.0</td>\n",
       "      <td>Switzerland</td>\n",
       "      <td>Lake of Zurich</td>\n",
       "    </tr>\n",
       "    <tr>\n",
       "      <th>14</th>\n",
       "      <td>34</td>\n",
       "      <td>Fishing Boat</td>\n",
       "      <td>Quicksilver (Brunswick Marine) power boats</td>\n",
       "      <td>Used boat,Unleaded</td>\n",
       "      <td>1996</td>\n",
       "      <td>4.41</td>\n",
       "      <td>1.71</td>\n",
       "      <td>Aluminium</td>\n",
       "      <td>255</td>\n",
       "      <td>3876.0</td>\n",
       "      <td>Switzerland</td>\n",
       "      <td>Luganersee</td>\n",
       "    </tr>\n",
       "    <tr>\n",
       "      <th>15</th>\n",
       "      <td>35</td>\n",
       "      <td>Cabin Boat</td>\n",
       "      <td>Draco power boats</td>\n",
       "      <td>Used boat,Unleaded</td>\n",
       "      <td>1980</td>\n",
       "      <td>6.20</td>\n",
       "      <td>2.45</td>\n",
       "      <td>GRP</td>\n",
       "      <td>1804</td>\n",
       "      <td>3876.0</td>\n",
       "      <td>Switzerland</td>\n",
       "      <td>Walensee</td>\n",
       "    </tr>\n",
       "    <tr>\n",
       "      <th>16</th>\n",
       "      <td>36</td>\n",
       "      <td>Fishing Boat</td>\n",
       "      <td>Hensa  power boats</td>\n",
       "      <td>Used boat,Unleaded</td>\n",
       "      <td>1974</td>\n",
       "      <td>5.40</td>\n",
       "      <td>1.67</td>\n",
       "      <td>Plastic</td>\n",
       "      <td>849</td>\n",
       "      <td>3876.0</td>\n",
       "      <td>Switzerland</td>\n",
       "      <td>Sihlsee</td>\n",
       "    </tr>\n",
       "    <tr>\n",
       "      <th>17</th>\n",
       "      <td>38</td>\n",
       "      <td>Center console boat</td>\n",
       "      <td>Ibis power boats</td>\n",
       "      <td>Used boat,Unleaded</td>\n",
       "      <td>1983</td>\n",
       "      <td>4.40</td>\n",
       "      <td>1.50</td>\n",
       "      <td>GRP</td>\n",
       "      <td>133</td>\n",
       "      <td>3500.0</td>\n",
       "      <td>Germany</td>\n",
       "      <td>Verkaufshafen Brandenburg-Plaue</td>\n",
       "    </tr>\n",
       "    <tr>\n",
       "      <th>18</th>\n",
       "      <td>43</td>\n",
       "      <td>Sport Boat</td>\n",
       "      <td>Corsiva power boats</td>\n",
       "      <td>new boat from stock</td>\n",
       "      <td>2018</td>\n",
       "      <td>5.20</td>\n",
       "      <td>2.20</td>\n",
       "      <td>GRP</td>\n",
       "      <td>186</td>\n",
       "      <td>5500.0</td>\n",
       "      <td>Germany</td>\n",
       "      <td>Berlin</td>\n",
       "    </tr>\n",
       "    <tr>\n",
       "      <th>19</th>\n",
       "      <td>44</td>\n",
       "      <td>Center console boat</td>\n",
       "      <td>Saver power boats</td>\n",
       "      <td>Used boat,Unleaded</td>\n",
       "      <td>1997</td>\n",
       "      <td>4.40</td>\n",
       "      <td>1.78</td>\n",
       "      <td>PVC</td>\n",
       "      <td>118</td>\n",
       "      <td>5500.0</td>\n",
       "      <td>Spain</td>\n",
       "      <td>Cabo de Palos, Espagne</td>\n",
       "    </tr>\n",
       "  </tbody>\n",
       "</table>\n",
       "</div>"
      ],
      "text/plain": [
       "    Unnamed: 0            Boat Type  \\\n",
       "0            1  Center console boat   \n",
       "1            4         Fishing Boat   \n",
       "2           10         Fishing Boat   \n",
       "3           12           Sport Boat   \n",
       "4           13             Runabout   \n",
       "5           14         Fishing Boat   \n",
       "6           18           Pilothouse   \n",
       "7           20         Fishing Boat   \n",
       "8           22           Sport Boat   \n",
       "9           23           Sport Boat   \n",
       "10          25         Fishing Boat   \n",
       "11          27         Fishing Boat   \n",
       "12          29         Fishing Boat   \n",
       "13          30           Sport Boat   \n",
       "14          34         Fishing Boat   \n",
       "15          35           Cabin Boat   \n",
       "16          36         Fishing Boat   \n",
       "17          38  Center console boat   \n",
       "18          43           Sport Boat   \n",
       "19          44  Center console boat   \n",
       "\n",
       "                                  Manufacturer                          Type  \\\n",
       "0                            Terhi power boats           new boat from stock   \n",
       "1                           Linder power boats           new boat from stock   \n",
       "2                            Terhi power boats            Used boat,Electric   \n",
       "3                       GS Nautica power boats                     Used boat   \n",
       "4                           Kimple power boats           new boat from stock   \n",
       "5                       Italmarine power boats            Used boat,Unleaded   \n",
       "6                       BÃ©nÃ©teau power boats              Used boat,Diesel   \n",
       "7                           Linder power boats           new boat from stock   \n",
       "8                           Linder power boats  new boat from stock,Unleaded   \n",
       "9                           Kammin power boats            Used boat,Unleaded   \n",
       "10                          Bucher power boats            Used boat,Unleaded   \n",
       "11                          Linder power boats           new boat from stock   \n",
       "12                           Terhi power boats           new boat from stock   \n",
       "13                         MÃ¤ndli power boats                     Used boat   \n",
       "14  Quicksilver (Brunswick Marine) power boats            Used boat,Unleaded   \n",
       "15                           Draco power boats            Used boat,Unleaded   \n",
       "16                          Hensa  power boats            Used boat,Unleaded   \n",
       "17                            Ibis power boats            Used boat,Unleaded   \n",
       "18                         Corsiva power boats           new boat from stock   \n",
       "19                           Saver power boats            Used boat,Unleaded   \n",
       "\n",
       "    Year Built  Length  Width       Material  Number of views last 7 days  \\\n",
       "0         2020    4.00   1.50  Thermoplastic                           75   \n",
       "1         2019    3.55   1.46      Aluminium                           58   \n",
       "2         1987    4.35   1.75            GRP                          239   \n",
       "3         2004    4.70   2.00            GRP                           69   \n",
       "4         2020    4.40   1.65      Aluminium                          113   \n",
       "5         1997    3.72   1.33      Aluminium                          413   \n",
       "6         1981    8.00   2.84            PVC                          265   \n",
       "7         2019    3.55   1.46      Aluminium                           69   \n",
       "8         2020    4.31   1.64      Aluminium                           90   \n",
       "9         1979    5.60   2.10            GRP                           98   \n",
       "10        1998    5.70   1.55            GRP                          160   \n",
       "11        2018    3.55   1.46      Aluminium                          130   \n",
       "12        2020    4.01   1.50  Thermoplastic                          512   \n",
       "13        1996    4.84   1.58            GRP                          202   \n",
       "14        1996    4.41   1.71      Aluminium                          255   \n",
       "15        1980    6.20   2.45            GRP                         1804   \n",
       "16        1974    5.40   1.67        Plastic                          849   \n",
       "17        1983    4.40   1.50            GRP                          133   \n",
       "18        2018    5.20   2.20            GRP                          186   \n",
       "19        1997    4.40   1.78            PVC                          118   \n",
       "\n",
       "    EUR Price       Country                                               City  \n",
       "0      3490.0      Germany                                       BÃ¶nningstedt  \n",
       "1      3399.0      Germany                                             Bayern   \n",
       "2      3570.0  Switzerland                                             Seengen  \n",
       "3      3500.0        Italy                                         Lake Garda   \n",
       "4      4692.0  Switzerland                                           Zugersee   \n",
       "5      4590.0  Switzerland                                VierwaldstÃ¤ttersee   \n",
       "6      4000.0       France                                 MARTGUES, MARTIGUES  \n",
       "7      3999.0      Germany                                             Bayern   \n",
       "8      3930.0      Germany                                Nordrhein-Westfalen   \n",
       "9      3900.0      Germany    BOOTSSERVICE ENK IN TREIS KARDEN, BOOTSSERVIC...  \n",
       "10     4284.0  Switzerland                                        Diessenhofen  \n",
       "11     4110.6  Switzerland                                VierwaldstÃ¤ttersee   \n",
       "12     4054.5  Switzerland                                              Horgen  \n",
       "13     4029.0  Switzerland                                     Lake of Zurich   \n",
       "14     3876.0  Switzerland                                         Luganersee   \n",
       "15     3876.0  Switzerland                                           Walensee   \n",
       "16     3876.0  Switzerland                                            Sihlsee   \n",
       "17     3500.0      Germany                     Verkaufshafen Brandenburg-Plaue  \n",
       "18     5500.0      Germany                                             Berlin   \n",
       "19     5500.0        Spain                              Cabo de Palos, Espagne  "
      ]
     },
     "execution_count": 8,
     "metadata": {},
     "output_type": "execute_result"
    }
   ],
   "source": [
    "df.head(20)"
   ]
  },
  {
   "cell_type": "code",
   "execution_count": 10,
   "id": "a6016f0d",
   "metadata": {
    "ExecuteTime": {
     "end_time": "2022-12-29T09:18:11.860667Z",
     "start_time": "2022-12-29T09:18:11.851752Z"
    }
   },
   "outputs": [],
   "source": [
    "# Drop the redundant columns\n",
    "df = df.drop(['Unnamed: 0'],axis = 1)"
   ]
  },
  {
   "cell_type": "code",
   "execution_count": 11,
   "id": "d0eff315",
   "metadata": {
    "ExecuteTime": {
     "end_time": "2022-12-29T09:18:29.735276Z",
     "start_time": "2022-12-29T09:18:29.729225Z"
    }
   },
   "outputs": [
    {
     "data": {
      "text/plain": [
       "(6001, 11)"
      ]
     },
     "execution_count": 11,
     "metadata": {},
     "output_type": "execute_result"
    }
   ],
   "source": [
    "df.shape"
   ]
  },
  {
   "cell_type": "code",
   "execution_count": 12,
   "id": "5d215bec",
   "metadata": {
    "ExecuteTime": {
     "end_time": "2022-12-29T09:18:50.810103Z",
     "start_time": "2022-12-29T09:18:50.798081Z"
    }
   },
   "outputs": [
    {
     "data": {
      "text/plain": [
       "Boat Type                      0\n",
       "Manufacturer                   0\n",
       "Type                           0\n",
       "Year Built                     0\n",
       "Length                         0\n",
       "Width                          0\n",
       "Material                       0\n",
       "Number of views last 7 days    0\n",
       "EUR Price                      0\n",
       "Country                        0\n",
       "City                           0\n",
       "dtype: int64"
      ]
     },
     "execution_count": 12,
     "metadata": {},
     "output_type": "execute_result"
    }
   ],
   "source": [
    "# Check for missing values\n",
    "df.isnull().sum()"
   ]
  },
  {
   "cell_type": "code",
   "execution_count": 13,
   "id": "e901bff3",
   "metadata": {
    "ExecuteTime": {
     "end_time": "2022-12-29T09:19:06.848388Z",
     "start_time": "2022-12-29T09:19:06.835527Z"
    }
   },
   "outputs": [],
   "source": [
    "# Duplicates check\n",
    "dups = df.duplicated()"
   ]
  },
  {
   "cell_type": "code",
   "execution_count": 14,
   "id": "a329ceb3",
   "metadata": {
    "ExecuteTime": {
     "end_time": "2022-12-29T09:19:23.241267Z",
     "start_time": "2022-12-29T09:19:23.237131Z"
    },
    "scrolled": true
   },
   "outputs": [
    {
     "data": {
      "text/plain": [
       "(6001,)"
      ]
     },
     "execution_count": 14,
     "metadata": {},
     "output_type": "execute_result"
    }
   ],
   "source": [
    "dups.shape"
   ]
  },
  {
   "cell_type": "markdown",
   "id": "52054f7a",
   "metadata": {},
   "source": [
    "#### Extreme value check"
   ]
  },
  {
   "cell_type": "code",
   "execution_count": 17,
   "id": "7007b4de",
   "metadata": {
    "ExecuteTime": {
     "end_time": "2022-12-29T09:21:06.713280Z",
     "start_time": "2022-12-29T09:21:06.507298Z"
    }
   },
   "outputs": [
    {
     "name": "stderr",
     "output_type": "stream",
     "text": [
      "/var/folders/w2/swqynjr91bldf6fp6tjyc9x80000gn/T/ipykernel_51342/4285542706.py:2: UserWarning: \n",
      "\n",
      "`distplot` is a deprecated function and will be removed in seaborn v0.14.0.\n",
      "\n",
      "Please adapt your code to use either `displot` (a figure-level function with\n",
      "similar flexibility) or `histplot` (an axes-level function for histograms).\n",
      "\n",
      "For a guide to updating your code to use the new functions, please see\n",
      "https://gist.github.com/mwaskom/de44147ed2974457ad6372750bbe5751\n",
      "\n",
      "  sns.distplot(df['Length'], bins=25) # Shows extreme values\n"
     ]
    },
    {
     "data": {
      "text/plain": [
       "<AxesSubplot: xlabel='Length', ylabel='Density'>"
      ]
     },
     "execution_count": 17,
     "metadata": {},
     "output_type": "execute_result"
    },
    {
     "data": {
      "image/png": "[encoded data removed]",
      "text/plain": [
       "<Figure size 640x480 with 1 Axes>"
      ]
     },
     "metadata": {},
     "output_type": "display_data"
    }
   ],
   "source": [
    "# Extreme values checks\n",
    "sns.distplot(df['Length'], bins=25) # Shows extreme values\n"
   ]
  },
  {
   "cell_type": "code",
   "execution_count": 18,
   "id": "7599ff73",
   "metadata": {
    "ExecuteTime": {
     "end_time": "2022-12-29T09:21:52.454681Z",
     "start_time": "2022-12-29T09:21:52.449240Z"
    }
   },
   "outputs": [
    {
     "data": {
      "text/plain": [
       "10.834530911514786"
      ]
     },
     "execution_count": 18,
     "metadata": {},
     "output_type": "execute_result"
    }
   ],
   "source": [
    "df['Length'].mean() # Check the mean"
   ]
  },
  {
   "cell_type": "code",
   "execution_count": 19,
   "id": "63be6de3",
   "metadata": {
    "ExecuteTime": {
     "end_time": "2022-12-29T09:22:11.233323Z",
     "start_time": "2022-12-29T09:22:11.225349Z"
    }
   },
   "outputs": [
    {
     "data": {
      "text/plain": [
       "9.88"
      ]
     },
     "execution_count": 19,
     "metadata": {},
     "output_type": "execute_result"
    }
   ],
   "source": [
    "df['Length'].median() # Check the median"
   ]
  },
  {
   "cell_type": "code",
   "execution_count": 21,
   "id": "cfca7963",
   "metadata": {
    "ExecuteTime": {
     "end_time": "2022-12-29T15:38:30.832683Z",
     "start_time": "2022-12-29T15:38:30.827991Z"
    }
   },
   "outputs": [
    {
     "data": {
      "text/plain": [
       "56.0"
      ]
     },
     "execution_count": 21,
     "metadata": {},
     "output_type": "execute_result"
    }
   ],
   "source": [
    "df['Length'].max() # Check the max"
   ]
  },
  {
   "cell_type": "markdown",
   "id": "1d2c8a9e",
   "metadata": {},
   "source": [
    "### 3. Data prep for regression analysis"
   ]
  },
  {
   "cell_type": "code",
   "execution_count": 23,
   "id": "5145596f",
   "metadata": {
    "ExecuteTime": {
     "end_time": "2022-12-29T15:40:08.743294Z",
     "start_time": "2022-12-29T15:40:08.539220Z"
    }
   },
   "outputs": [
    {
     "data": {
      "image/png": "[encoded data removed]",
      "text/plain": [
       "<Figure size 640x480 with 1 Axes>"
      ]
     },
     "metadata": {},
     "output_type": "display_data"
    }
   ],
   "source": [
    "# Create a scatterplot using matplotlib for another look at how the chosen variables plot against each other.\n",
    "df.plot(x = 'Length', y='EUR Price',style='o') # The style option creates a scatterplot; without it, we only have lines.\n",
    "plt.title('Length of boat vs Price')  \n",
    "plt.xlabel('Length')  \n",
    "plt.ylabel('Price in Euro')  \n",
    "plt.show()"
   ]
  },
  {
   "cell_type": "code",
   "execution_count": 28,
   "id": "98e41d93",
   "metadata": {
    "ExecuteTime": {
     "end_time": "2022-12-29T15:41:27.844368Z",
     "start_time": "2022-12-29T15:41:27.838987Z"
    }
   },
   "outputs": [],
   "source": [
    "# Reshape the variables into NumPy arrays and put them into separate objects.\n",
    "x = df['Length'].values.reshape(-1,1)\n",
    "y = df['EUR Price'].values.reshape(-1,1)"
   ]
  },
  {
   "cell_type": "code",
   "execution_count": 29,
   "id": "bb35b357",
   "metadata": {
    "ExecuteTime": {
     "end_time": "2022-12-29T15:41:32.654257Z",
     "start_time": "2022-12-29T15:41:32.648480Z"
    }
   },
   "outputs": [
    {
     "data": {
      "text/plain": [
       "array([[4.  ],\n",
       "       [3.55],\n",
       "       [4.35],\n",
       "       ...,\n",
       "       [6.  ],\n",
       "       [4.4 ],\n",
       "       [3.6 ]])"
      ]
     },
     "execution_count": 29,
     "metadata": {},
     "output_type": "execute_result"
    }
   ],
   "source": [
    "x"
   ]
  },
  {
   "cell_type": "code",
   "execution_count": 30,
   "id": "c2d5ec70",
   "metadata": {
    "ExecuteTime": {
     "end_time": "2022-12-29T15:41:36.566585Z",
     "start_time": "2022-12-29T15:41:36.560374Z"
    }
   },
   "outputs": [
    {
     "data": {
      "text/plain": [
       "array([[3490. ],\n",
       "       [3399. ],\n",
       "       [3570. ],\n",
       "       ...,\n",
       "       [5049. ],\n",
       "       [4499. ],\n",
       "       [3855.6]])"
      ]
     },
     "execution_count": 30,
     "metadata": {},
     "output_type": "execute_result"
    }
   ],
   "source": [
    "y"
   ]
  },
  {
   "cell_type": "code",
   "execution_count": 32,
   "id": "26f1598b",
   "metadata": {
    "ExecuteTime": {
     "end_time": "2022-12-29T15:42:12.072903Z",
     "start_time": "2022-12-29T15:42:12.067483Z"
    }
   },
   "outputs": [],
   "source": [
    "# Split data into a training set and a test set.\n",
    "x_train, x_test, y_train, y_test = train_test_split(x, y, test_size=0.3, random_state=0)"
   ]
  },
  {
   "cell_type": "markdown",
   "id": "f5245b5e",
   "metadata": {},
   "source": [
    "### Hypothesis  \n",
    "The higher the length of the boat, the higher the price"
   ]
  },
  {
   "cell_type": "code",
   "execution_count": 33,
   "id": "2c5ffca3",
   "metadata": {
    "ExecuteTime": {
     "end_time": "2022-12-29T15:43:11.908275Z",
     "start_time": "2022-12-29T15:43:11.904708Z"
    }
   },
   "outputs": [],
   "source": [
    "# Create a regression object.\n",
    "regression = LinearRegression()  # This is the regression object, which will be fit onto the training set."
   ]
  },
  {
   "cell_type": "code",
   "execution_count": 35,
   "id": "34649d74",
   "metadata": {
    "ExecuteTime": {
     "end_time": "2022-12-29T15:43:31.515379Z",
     "start_time": "2022-12-29T15:43:31.506795Z"
    }
   },
   "outputs": [
    {
     "data": {
      "text/plain": [
       "LinearRegression()"
      ]
     },
     "execution_count": 35,
     "metadata": {},
     "output_type": "execute_result"
    }
   ],
   "source": [
    "# Fit the regression object onto the training set.\n",
    "regression.fit(x_train, y_train)"
   ]
  },
  {
   "cell_type": "code",
   "execution_count": 36,
   "id": "aa420fe1",
   "metadata": {
    "ExecuteTime": {
     "end_time": "2022-12-29T15:43:46.688295Z",
     "start_time": "2022-12-29T15:43:46.683917Z"
    }
   },
   "outputs": [],
   "source": [
    "# Predict the values of y using X.\n",
    "y_predicted = regression.predict(x_test)"
   ]
  },
  {
   "cell_type": "code",
   "execution_count": 37,
   "id": "4f4be44b",
   "metadata": {
    "ExecuteTime": {
     "end_time": "2022-12-29T15:44:22.160506Z",
     "start_time": "2022-12-29T15:44:21.963373Z"
    }
   },
   "outputs": [
    {
     "data": {
      "image/png": "[encoded data removed]",
      "text/plain": [
       "<Figure size 640x480 with 1 Axes>"
      ]
     },
     "metadata": {},
     "output_type": "display_data"
    }
   ],
   "source": [
    "# Create a plot that shows the regression line from the model on the test set.\n",
    "plot_test = plt\n",
    "plot_test.scatter(x_test, y_test, color='gray', s = 15)\n",
    "plot_test.plot(x_test, y_predicted, color='red', linewidth =3)\n",
    "plot_test.title('Length of boat vs Price (Test set)')\n",
    "plot_test.xlabel('Length of boat')\n",
    "plot_test.ylabel('Price in EUR')\n",
    "plot_test.show()"
   ]
  },
  {
   "cell_type": "code",
   "execution_count": 38,
   "id": "f348184b",
   "metadata": {
    "ExecuteTime": {
     "end_time": "2022-12-29T15:44:53.922836Z",
     "start_time": "2022-12-29T15:44:53.915957Z"
    }
   },
   "outputs": [],
   "source": [
    "# Create objects that contain the model summary statistics.\n",
    "rmse = mean_squared_error(y_test, y_predicted) # This is the mean squared error\n",
    "r2 = r2_score(y_test, y_predicted) # This is the R2 score. "
   ]
  },
  {
   "cell_type": "code",
   "execution_count": 39,
   "id": "5e1eb95b",
   "metadata": {
    "ExecuteTime": {
     "end_time": "2022-12-29T15:45:06.166081Z",
     "start_time": "2022-12-29T15:45:06.159752Z"
    }
   },
   "outputs": [
    {
     "name": "stdout",
     "output_type": "stream",
     "text": [
      "Slope: [[87129.53602373]]\n",
      "Mean squared error:  188101017128.7506\n",
      "R2 score:  0.37527128064359916\n"
     ]
    }
   ],
   "source": [
    "# Print the model summary statistics. This is where you evaluate the performance of the model.\n",
    "print('Slope:' ,regression.coef_)\n",
    "print('Mean squared error: ', rmse)\n",
    "print('R2 score: ', r2)"
   ]
  },
  {
   "cell_type": "markdown",
   "id": "70560d5a",
   "metadata": {},
   "source": [
    "### Intepretation:  \n",
    "The slope is positive, so the relationship is positive. This aligns with my hypothesis that the higher the boat length, the higher the price. The MSE is high at 188101017128 , so the regression line is not at all a representation of the data. Also, the R2 score of 0.38 represents a poor fit."
   ]
  },
  {
   "cell_type": "code",
   "execution_count": 40,
   "id": "e67dc8e5",
   "metadata": {
    "ExecuteTime": {
     "end_time": "2022-12-29T15:46:48.581276Z",
     "start_time": "2022-12-29T15:46:48.574221Z"
    }
   },
   "outputs": [
    {
     "data": {
      "text/plain": [
       "array([[ 193273.23711307],\n",
       "       [-143918.06729877],\n",
       "       [ 209827.84895758],\n",
       "       ...,\n",
       "       [-137818.99977711],\n",
       "       [  10301.21146324],\n",
       "       [  -4510.8096608 ]])"
      ]
     },
     "execution_count": 40,
     "metadata": {},
     "output_type": "execute_result"
    }
   ],
   "source": [
    "y_predicted"
   ]
  },
  {
   "cell_type": "code",
   "execution_count": 41,
   "id": "f02c2c6d",
   "metadata": {
    "ExecuteTime": {
     "end_time": "2022-12-29T15:47:05.196884Z",
     "start_time": "2022-12-29T15:47:05.181042Z"
    }
   },
   "outputs": [
    {
     "data": {
      "text/html": [
       "<div>\n",
       "<style scoped>\n",
       "    .dataframe tbody tr th:only-of-type {\n",
       "        vertical-align: middle;\n",
       "    }\n",
       "\n",
       "    .dataframe tbody tr th {\n",
       "        vertical-align: top;\n",
       "    }\n",
       "\n",
       "    .dataframe thead th {\n",
       "        text-align: right;\n",
       "    }\n",
       "</style>\n",
       "<table border=\"1\" class=\"dataframe\">\n",
       "  <thead>\n",
       "    <tr style=\"text-align: right;\">\n",
       "      <th></th>\n",
       "      <th>Actual</th>\n",
       "      <th>Predicted</th>\n",
       "    </tr>\n",
       "  </thead>\n",
       "  <tbody>\n",
       "    <tr>\n",
       "      <th>0</th>\n",
       "      <td>69900.0</td>\n",
       "      <td>1.932732e+05</td>\n",
       "    </tr>\n",
       "    <tr>\n",
       "      <th>1</th>\n",
       "      <td>55998.0</td>\n",
       "      <td>-1.439181e+05</td>\n",
       "    </tr>\n",
       "    <tr>\n",
       "      <th>2</th>\n",
       "      <td>90000.0</td>\n",
       "      <td>2.098278e+05</td>\n",
       "    </tr>\n",
       "    <tr>\n",
       "      <th>3</th>\n",
       "      <td>38900.0</td>\n",
       "      <td>7.564836e+04</td>\n",
       "    </tr>\n",
       "    <tr>\n",
       "      <th>4</th>\n",
       "      <td>150000.0</td>\n",
       "      <td>-5.765983e+04</td>\n",
       "    </tr>\n",
       "    <tr>\n",
       "      <th>5</th>\n",
       "      <td>187000.0</td>\n",
       "      <td>8.871779e+04</td>\n",
       "    </tr>\n",
       "    <tr>\n",
       "      <th>6</th>\n",
       "      <td>34500.0</td>\n",
       "      <td>-8.466998e+04</td>\n",
       "    </tr>\n",
       "    <tr>\n",
       "      <th>7</th>\n",
       "      <td>575000.0</td>\n",
       "      <td>1.147342e+06</td>\n",
       "    </tr>\n",
       "    <tr>\n",
       "      <th>8</th>\n",
       "      <td>99890.0</td>\n",
       "      <td>1.030121e+04</td>\n",
       "    </tr>\n",
       "    <tr>\n",
       "      <th>9</th>\n",
       "      <td>15500.0</td>\n",
       "      <td>-9.861071e+04</td>\n",
       "    </tr>\n",
       "    <tr>\n",
       "      <th>10</th>\n",
       "      <td>99000.0</td>\n",
       "      <td>7.564836e+04</td>\n",
       "    </tr>\n",
       "    <tr>\n",
       "      <th>11</th>\n",
       "      <td>350000.0</td>\n",
       "      <td>7.726847e+05</td>\n",
       "    </tr>\n",
       "    <tr>\n",
       "      <th>12</th>\n",
       "      <td>105000.0</td>\n",
       "      <td>6.519282e+04</td>\n",
       "    </tr>\n",
       "    <tr>\n",
       "      <th>13</th>\n",
       "      <td>19990.0</td>\n",
       "      <td>-2.667707e+05</td>\n",
       "    </tr>\n",
       "    <tr>\n",
       "      <th>14</th>\n",
       "      <td>44900.0</td>\n",
       "      <td>-1.508884e+05</td>\n",
       "    </tr>\n",
       "    <tr>\n",
       "      <th>15</th>\n",
       "      <td>80325.0</td>\n",
       "      <td>-2.193672e+04</td>\n",
       "    </tr>\n",
       "    <tr>\n",
       "      <th>16</th>\n",
       "      <td>72000.0</td>\n",
       "      <td>2.150556e+05</td>\n",
       "    </tr>\n",
       "    <tr>\n",
       "      <th>17</th>\n",
       "      <td>66990.0</td>\n",
       "      <td>-8.989775e+04</td>\n",
       "    </tr>\n",
       "    <tr>\n",
       "      <th>18</th>\n",
       "      <td>49980.0</td>\n",
       "      <td>-5.853112e+04</td>\n",
       "    </tr>\n",
       "    <tr>\n",
       "      <th>19</th>\n",
       "      <td>245000.0</td>\n",
       "      <td>4.503054e+05</td>\n",
       "    </tr>\n",
       "    <tr>\n",
       "      <th>20</th>\n",
       "      <td>51000.0</td>\n",
       "      <td>7.564836e+04</td>\n",
       "    </tr>\n",
       "    <tr>\n",
       "      <th>21</th>\n",
       "      <td>78000.0</td>\n",
       "      <td>3.091555e+05</td>\n",
       "    </tr>\n",
       "    <tr>\n",
       "      <th>22</th>\n",
       "      <td>69500.0</td>\n",
       "      <td>5.008405e+05</td>\n",
       "    </tr>\n",
       "    <tr>\n",
       "      <th>23</th>\n",
       "      <td>45900.0</td>\n",
       "      <td>-5.765983e+04</td>\n",
       "    </tr>\n",
       "    <tr>\n",
       "      <th>24</th>\n",
       "      <td>177900.0</td>\n",
       "      <td>5.984256e+05</td>\n",
       "    </tr>\n",
       "    <tr>\n",
       "      <th>25</th>\n",
       "      <td>23970.0</td>\n",
       "      <td>-1.839977e+05</td>\n",
       "    </tr>\n",
       "    <tr>\n",
       "      <th>26</th>\n",
       "      <td>275000.0</td>\n",
       "      <td>5.923265e+05</td>\n",
       "    </tr>\n",
       "    <tr>\n",
       "      <th>27</th>\n",
       "      <td>25398.0</td>\n",
       "      <td>9.743075e+04</td>\n",
       "    </tr>\n",
       "    <tr>\n",
       "      <th>28</th>\n",
       "      <td>59000.0</td>\n",
       "      <td>3.117694e+05</td>\n",
       "    </tr>\n",
       "    <tr>\n",
       "      <th>29</th>\n",
       "      <td>58500.0</td>\n",
       "      <td>-4.284781e+04</td>\n",
       "    </tr>\n",
       "  </tbody>\n",
       "</table>\n",
       "</div>"
      ],
      "text/plain": [
       "      Actual     Predicted\n",
       "0    69900.0  1.932732e+05\n",
       "1    55998.0 -1.439181e+05\n",
       "2    90000.0  2.098278e+05\n",
       "3    38900.0  7.564836e+04\n",
       "4   150000.0 -5.765983e+04\n",
       "5   187000.0  8.871779e+04\n",
       "6    34500.0 -8.466998e+04\n",
       "7   575000.0  1.147342e+06\n",
       "8    99890.0  1.030121e+04\n",
       "9    15500.0 -9.861071e+04\n",
       "10   99000.0  7.564836e+04\n",
       "11  350000.0  7.726847e+05\n",
       "12  105000.0  6.519282e+04\n",
       "13   19990.0 -2.667707e+05\n",
       "14   44900.0 -1.508884e+05\n",
       "15   80325.0 -2.193672e+04\n",
       "16   72000.0  2.150556e+05\n",
       "17   66990.0 -8.989775e+04\n",
       "18   49980.0 -5.853112e+04\n",
       "19  245000.0  4.503054e+05\n",
       "20   51000.0  7.564836e+04\n",
       "21   78000.0  3.091555e+05\n",
       "22   69500.0  5.008405e+05\n",
       "23   45900.0 -5.765983e+04\n",
       "24  177900.0  5.984256e+05\n",
       "25   23970.0 -1.839977e+05\n",
       "26  275000.0  5.923265e+05\n",
       "27   25398.0  9.743075e+04\n",
       "28   59000.0  3.117694e+05\n",
       "29   58500.0 -4.284781e+04"
      ]
     },
     "execution_count": 41,
     "metadata": {},
     "output_type": "execute_result"
    }
   ],
   "source": [
    "# Create a dataframe comparing the actual and predicted values of y.\n",
    "data = pd.DataFrame({'Actual': y_test.flatten(), 'Predicted': y_predicted.flatten()})\n",
    "data.head(30)"
   ]
  },
  {
   "cell_type": "markdown",
   "id": "da98adae",
   "metadata": {},
   "source": [
    "### Compare how the regression fits the training set"
   ]
  },
  {
   "cell_type": "code",
   "execution_count": 42,
   "id": "9a301d56",
   "metadata": {
    "ExecuteTime": {
     "end_time": "2022-12-29T15:47:47.896576Z",
     "start_time": "2022-12-29T15:47:47.892980Z"
    }
   },
   "outputs": [],
   "source": [
    "# Predict.\n",
    "y_predicted_train = regression.predict(x_train) # This is predicting X_train!"
   ]
  },
  {
   "cell_type": "code",
   "execution_count": 43,
   "id": "9fcb0eca",
   "metadata": {
    "ExecuteTime": {
     "end_time": "2022-12-29T15:47:58.675331Z",
     "start_time": "2022-12-29T15:47:58.668525Z"
    }
   },
   "outputs": [],
   "source": [
    "rmse = mean_squared_error(y_train, y_predicted_train)\n",
    "r2 = r2_score(y_train, y_predicted_train)"
   ]
  },
  {
   "cell_type": "code",
   "execution_count": 44,
   "id": "8145e1c1",
   "metadata": {
    "ExecuteTime": {
     "end_time": "2022-12-29T15:48:09.431421Z",
     "start_time": "2022-12-29T15:48:09.425508Z"
    }
   },
   "outputs": [
    {
     "name": "stdout",
     "output_type": "stream",
     "text": [
      "Slope: [[87129.53602373]]\n",
      "Mean squared error:  271297129629.16965\n",
      "R2 score:  0.3999007436559169\n"
     ]
    }
   ],
   "source": [
    "print('Slope:' ,regression.coef_)\n",
    "print('Mean squared error: ', rmse)\n",
    "print('R2 score: ', r2)"
   ]
  },
  {
   "cell_type": "markdown",
   "id": "5f9435be",
   "metadata": {},
   "source": [
    "### Include any reflections you have on the impact of possible data bias.  \n",
    "The values are identical to the model. Positive relationship, extremely high MSE and a low R2. This all indicates that the length of the boat is not a good determinant of the cost of the boat. This is true because in reality there are other important factors that would be considered in determining the value of a boat. Some of the factors are not limited to the boat"
   ]
  },
  {
   "cell_type": "code",
   "execution_count": 49,
   "id": "2ea3c41c",
   "metadata": {
    "ExecuteTime": {
     "end_time": "2022-12-29T15:50:59.285062Z",
     "start_time": "2022-12-29T15:50:59.090483Z"
    }
   },
   "outputs": [
    {
     "data": {
      "image/png": "[encoded data removed]",
      "text/plain": [
       "<Figure size 640x480 with 1 Axes>"
      ]
     },
     "metadata": {},
     "output_type": "display_data"
    }
   ],
   "source": [
    "# Visualizing the training set results.\n",
    "plot_test = plt\n",
    "plot_test.scatter(x_train, y_train, color='green', s = 15)\n",
    "plot_test.plot(x_train, y_predicted_train, color='red', linewidth =3)\n",
    "plot_test.title('Lenght of boat vs Price(Train set)')\n",
    "plot_test.xlabel('Length of boat')\n",
    "plot_test.ylabel('Price in EUR')\n",
    "plot_test.show()"
   ]
  },
  {
   "cell_type": "markdown",
   "id": "e0a824b4",
   "metadata": {},
   "source": [
    "### Performance improvement after removing outliers"
   ]
  },
  {
   "cell_type": "code",
   "execution_count": 62,
   "id": "7d580c65",
   "metadata": {
    "ExecuteTime": {
     "end_time": "2022-12-29T16:09:17.924600Z",
     "start_time": "2022-12-29T16:09:17.919229Z"
    }
   },
   "outputs": [
    {
     "data": {
      "text/plain": [
       "234674.99908015307"
      ]
     },
     "execution_count": 62,
     "metadata": {},
     "output_type": "execute_result"
    }
   ],
   "source": [
    "df['EUR Price'].mean() # Check the mean"
   ]
  },
  {
   "cell_type": "code",
   "execution_count": 63,
   "id": "b20e7a81",
   "metadata": {
    "ExecuteTime": {
     "end_time": "2022-12-29T16:11:00.202135Z",
     "start_time": "2022-12-29T16:11:00.195825Z"
    }
   },
   "outputs": [
    {
     "data": {
      "text/plain": [
       "87000.0"
      ]
     },
     "execution_count": 63,
     "metadata": {},
     "output_type": "execute_result"
    }
   ],
   "source": [
    "df['EUR Price'].median() #check for median"
   ]
  },
  {
   "cell_type": "code",
   "execution_count": 64,
   "id": "2a4c5831",
   "metadata": {
    "ExecuteTime": {
     "end_time": "2022-12-29T16:11:23.251343Z",
     "start_time": "2022-12-29T16:11:23.244772Z"
    }
   },
   "outputs": [
    {
     "data": {
      "text/plain": [
       "23500000.0"
      ]
     },
     "execution_count": 64,
     "metadata": {},
     "output_type": "execute_result"
    }
   ],
   "source": [
    "df['EUR Price'].max() #check for max"
   ]
  },
  {
   "cell_type": "code",
   "execution_count": 50,
   "id": "d5eaa9d9",
   "metadata": {
    "ExecuteTime": {
     "end_time": "2022-12-29T15:52:28.143149Z",
     "start_time": "2022-12-29T15:52:28.136447Z"
    }
   },
   "outputs": [],
   "source": [
    "# Clean the extreme values from the \"Price per Unit\" variable observed during the consistency checks.\n",
    "df_test = df[df['EUR Price'] <=20000000]"
   ]
  },
  {
   "cell_type": "code",
   "execution_count": 52,
   "id": "1fd0f583",
   "metadata": {
    "ExecuteTime": {
     "end_time": "2022-12-29T15:52:59.482476Z",
     "start_time": "2022-12-29T15:52:59.283752Z"
    }
   },
   "outputs": [
    {
     "data": {
      "image/png": "[encoded data removed]",
      "text/plain": [
       "<Figure size 640x480 with 1 Axes>"
      ]
     },
     "metadata": {},
     "output_type": "display_data"
    }
   ],
   "source": [
    "# See how the scatterplot looks without outliers.\n",
    "df_test.plot(x = 'Length', y='EUR Price',style='o')\n",
    "plt.title('Length of boat vs Price')  \n",
    "plt.xlabel('Length')  \n",
    "plt.ylabel('Price in Euro')  \n",
    "plt.show()"
   ]
  },
  {
   "cell_type": "code",
   "execution_count": 54,
   "id": "a3f87f73",
   "metadata": {
    "ExecuteTime": {
     "end_time": "2022-12-29T15:53:40.442223Z",
     "start_time": "2022-12-29T15:53:40.437377Z"
    }
   },
   "outputs": [],
   "source": [
    "# Reshape the variables into NumPy arrays and put them into separate objects.\n",
    "x_2 = df_test['Length'].values.reshape(-1,1)\n",
    "y_2 = df_test['EUR Price'].values.reshape(-1,1)"
   ]
  },
  {
   "cell_type": "code",
   "execution_count": 55,
   "id": "fa9e1c6d",
   "metadata": {
    "ExecuteTime": {
     "end_time": "2022-12-29T15:54:00.365745Z",
     "start_time": "2022-12-29T15:54:00.360530Z"
    }
   },
   "outputs": [],
   "source": [
    "x_train_2, x_test_2, y_train_2, y_test_2 = train_test_split(x_2, y_2, test_size=0.3, random_state=0)"
   ]
  },
  {
   "cell_type": "code",
   "execution_count": 56,
   "id": "f9ce6be6",
   "metadata": {
    "ExecuteTime": {
     "end_time": "2022-12-29T15:54:25.700684Z",
     "start_time": "2022-12-29T15:54:25.691449Z"
    }
   },
   "outputs": [
    {
     "data": {
      "text/plain": [
       "LinearRegression()"
      ]
     },
     "execution_count": 56,
     "metadata": {},
     "output_type": "execute_result"
    }
   ],
   "source": [
    "# Run and fit the regression.\n",
    "regression = LinearRegression()  \n",
    "regression.fit(x_train_2, y_train_2)"
   ]
  },
  {
   "cell_type": "code",
   "execution_count": 57,
   "id": "0c4094c7",
   "metadata": {
    "ExecuteTime": {
     "end_time": "2022-12-29T15:54:41.554091Z",
     "start_time": "2022-12-29T15:54:41.549188Z"
    }
   },
   "outputs": [],
   "source": [
    "# Predict.\n",
    "y_predicted_2 = regression.predict(x_test_2)"
   ]
  },
  {
   "cell_type": "code",
   "execution_count": 58,
   "id": "93f9d37f",
   "metadata": {
    "ExecuteTime": {
     "end_time": "2022-12-29T15:54:54.296896Z",
     "start_time": "2022-12-29T15:54:54.290486Z"
    }
   },
   "outputs": [],
   "source": [
    "rmse = mean_squared_error(y_test_2, y_predicted_2)\n",
    "r2 = r2_score(y_test_2, y_predicted_2)"
   ]
  },
  {
   "cell_type": "code",
   "execution_count": 59,
   "id": "3f87f9a3",
   "metadata": {
    "ExecuteTime": {
     "end_time": "2022-12-29T15:55:20.531716Z",
     "start_time": "2022-12-29T15:55:20.526088Z"
    }
   },
   "outputs": [
    {
     "name": "stdout",
     "output_type": "stream",
     "text": [
      "Slope: [[76090.45628899]]\n",
      "Mean squared error:  184063984464.70312\n",
      "R2 score:  0.41589522161289905\n"
     ]
    }
   ],
   "source": [
    "print('Slope:' ,regression.coef_)\n",
    "print('Mean squared error: ', rmse)\n",
    "print('R2 score: ', r2)"
   ]
  },
  {
   "cell_type": "code",
   "execution_count": 60,
   "id": "1841d0b7",
   "metadata": {
    "ExecuteTime": {
     "end_time": "2022-12-29T15:55:45.897592Z",
     "start_time": "2022-12-29T15:55:45.704678Z"
    }
   },
   "outputs": [
    {
     "data": {
      "image/png": "[encoded data removed]",
      "text/plain": [
       "<Figure size 640x480 with 1 Axes>"
      ]
     },
     "metadata": {},
     "output_type": "display_data"
    }
   ],
   "source": [
    "plot_test = plt\n",
    "plot_test.scatter(x_test_2, y_test_2, color='green', s = 15)\n",
    "plot_test.plot(x_test_2, y_predicted_2, color='red', linewidth =3)\n",
    "plot_test.title('Lenght of boat vs Price(Train set)')\n",
    "plot_test.xlabel('Length of boat')\n",
    "plot_test.ylabel('Price in EUR')\n",
    "plot_test.show()"
   ]
  },
  {
   "cell_type": "code",
   "execution_count": 61,
   "id": "23299b02",
   "metadata": {
    "ExecuteTime": {
     "end_time": "2022-12-29T15:57:50.291512Z",
     "start_time": "2022-12-29T15:57:50.276890Z"
    },
    "scrolled": true
   },
   "outputs": [
    {
     "data": {
      "text/html": [
       "<div>\n",
       "<style scoped>\n",
       "    .dataframe tbody tr th:only-of-type {\n",
       "        vertical-align: middle;\n",
       "    }\n",
       "\n",
       "    .dataframe tbody tr th {\n",
       "        vertical-align: top;\n",
       "    }\n",
       "\n",
       "    .dataframe thead th {\n",
       "        text-align: right;\n",
       "    }\n",
       "</style>\n",
       "<table border=\"1\" class=\"dataframe\">\n",
       "  <thead>\n",
       "    <tr style=\"text-align: right;\">\n",
       "      <th></th>\n",
       "      <th>Actual</th>\n",
       "      <th>Predicted</th>\n",
       "    </tr>\n",
       "  </thead>\n",
       "  <tbody>\n",
       "    <tr>\n",
       "      <th>0</th>\n",
       "      <td>69900.00</td>\n",
       "      <td>193272.695417</td>\n",
       "    </tr>\n",
       "    <tr>\n",
       "      <th>1</th>\n",
       "      <td>1250000.00</td>\n",
       "      <td>919936.552977</td>\n",
       "    </tr>\n",
       "    <tr>\n",
       "      <th>2</th>\n",
       "      <td>18995.00</td>\n",
       "      <td>52505.351282</td>\n",
       "    </tr>\n",
       "    <tr>\n",
       "      <th>3</th>\n",
       "      <td>38900.00</td>\n",
       "      <td>90550.579427</td>\n",
       "    </tr>\n",
       "    <tr>\n",
       "      <th>4</th>\n",
       "      <td>150000.00</td>\n",
       "      <td>-25867.818696</td>\n",
       "    </tr>\n",
       "    <tr>\n",
       "      <th>5</th>\n",
       "      <td>187000.00</td>\n",
       "      <td>101964.147870</td>\n",
       "    </tr>\n",
       "    <tr>\n",
       "      <th>6</th>\n",
       "      <td>17338.98</td>\n",
       "      <td>-213811.245729</td>\n",
       "    </tr>\n",
       "    <tr>\n",
       "      <th>7</th>\n",
       "      <td>145000.00</td>\n",
       "      <td>254145.060448</td>\n",
       "    </tr>\n",
       "    <tr>\n",
       "      <th>8</th>\n",
       "      <td>99890.00</td>\n",
       "      <td>33482.737210</td>\n",
       "    </tr>\n",
       "    <tr>\n",
       "      <th>9</th>\n",
       "      <td>15500.00</td>\n",
       "      <td>-61630.333151</td>\n",
       "    </tr>\n",
       "    <tr>\n",
       "      <th>10</th>\n",
       "      <td>99000.00</td>\n",
       "      <td>90550.579427</td>\n",
       "    </tr>\n",
       "    <tr>\n",
       "      <th>11</th>\n",
       "      <td>61098.00</td>\n",
       "      <td>-114893.652554</td>\n",
       "    </tr>\n",
       "    <tr>\n",
       "      <th>12</th>\n",
       "      <td>105000.00</td>\n",
       "      <td>81419.724672</td>\n",
       "    </tr>\n",
       "    <tr>\n",
       "      <th>13</th>\n",
       "      <td>1301814.00</td>\n",
       "      <td>715253.225559</td>\n",
       "    </tr>\n",
       "    <tr>\n",
       "      <th>14</th>\n",
       "      <td>44900.00</td>\n",
       "      <td>-107284.606925</td>\n",
       "    </tr>\n",
       "    <tr>\n",
       "      <th>15</th>\n",
       "      <td>80325.00</td>\n",
       "      <td>5329.268383</td>\n",
       "    </tr>\n",
       "    <tr>\n",
       "      <th>16</th>\n",
       "      <td>72000.00</td>\n",
       "      <td>212295.309489</td>\n",
       "    </tr>\n",
       "    <tr>\n",
       "      <th>17</th>\n",
       "      <td>66990.00</td>\n",
       "      <td>-54021.287522</td>\n",
       "    </tr>\n",
       "    <tr>\n",
       "      <th>18</th>\n",
       "      <td>88000.00</td>\n",
       "      <td>303603.857036</td>\n",
       "    </tr>\n",
       "    <tr>\n",
       "      <th>19</th>\n",
       "      <td>45990.00</td>\n",
       "      <td>-160547.926327</td>\n",
       "    </tr>\n",
       "    <tr>\n",
       "      <th>20</th>\n",
       "      <td>385380.00</td>\n",
       "      <td>280015.815586</td>\n",
       "    </tr>\n",
       "    <tr>\n",
       "      <th>21</th>\n",
       "      <td>78000.00</td>\n",
       "      <td>294473.002281</td>\n",
       "    </tr>\n",
       "    <tr>\n",
       "      <th>22</th>\n",
       "      <td>69500.00</td>\n",
       "      <td>461872.006117</td>\n",
       "    </tr>\n",
       "    <tr>\n",
       "      <th>23</th>\n",
       "      <td>45900.00</td>\n",
       "      <td>-25867.818696</td>\n",
       "    </tr>\n",
       "    <tr>\n",
       "      <th>24</th>\n",
       "      <td>9990.00</td>\n",
       "      <td>-15976.059378</td>\n",
       "    </tr>\n",
       "    <tr>\n",
       "      <th>25</th>\n",
       "      <td>73440.00</td>\n",
       "      <td>27395.500707</td>\n",
       "    </tr>\n",
       "    <tr>\n",
       "      <th>26</th>\n",
       "      <td>9990.00</td>\n",
       "      <td>-15976.059378</td>\n",
       "    </tr>\n",
       "    <tr>\n",
       "      <th>27</th>\n",
       "      <td>25398.00</td>\n",
       "      <td>109573.193499</td>\n",
       "    </tr>\n",
       "    <tr>\n",
       "      <th>28</th>\n",
       "      <td>59000.00</td>\n",
       "      <td>296755.715970</td>\n",
       "    </tr>\n",
       "    <tr>\n",
       "      <th>29</th>\n",
       "      <td>279000.00</td>\n",
       "      <td>639923.673833</td>\n",
       "    </tr>\n",
       "  </tbody>\n",
       "</table>\n",
       "</div>"
      ],
      "text/plain": [
       "        Actual      Predicted\n",
       "0     69900.00  193272.695417\n",
       "1   1250000.00  919936.552977\n",
       "2     18995.00   52505.351282\n",
       "3     38900.00   90550.579427\n",
       "4    150000.00  -25867.818696\n",
       "5    187000.00  101964.147870\n",
       "6     17338.98 -213811.245729\n",
       "7    145000.00  254145.060448\n",
       "8     99890.00   33482.737210\n",
       "9     15500.00  -61630.333151\n",
       "10    99000.00   90550.579427\n",
       "11    61098.00 -114893.652554\n",
       "12   105000.00   81419.724672\n",
       "13  1301814.00  715253.225559\n",
       "14    44900.00 -107284.606925\n",
       "15    80325.00    5329.268383\n",
       "16    72000.00  212295.309489\n",
       "17    66990.00  -54021.287522\n",
       "18    88000.00  303603.857036\n",
       "19    45990.00 -160547.926327\n",
       "20   385380.00  280015.815586\n",
       "21    78000.00  294473.002281\n",
       "22    69500.00  461872.006117\n",
       "23    45900.00  -25867.818696\n",
       "24     9990.00  -15976.059378\n",
       "25    73440.00   27395.500707\n",
       "26     9990.00  -15976.059378\n",
       "27    25398.00  109573.193499\n",
       "28    59000.00  296755.715970\n",
       "29   279000.00  639923.673833"
      ]
     },
     "execution_count": 61,
     "metadata": {},
     "output_type": "execute_result"
    }
   ],
   "source": [
    "data = pd.DataFrame({'Actual': y_test_2.flatten(), 'Predicted': y_predicted_2.flatten()})\n",
    "data.head(30)"
   ]
  }
 ],
 "metadata": {
  "kernelspec": {
   "display_name": "Python 3 (ipykernel)",
   "language": "python",
   "name": "python3"
  },
  "language_info": {
   "codemirror_mode": {
    "name": "ipython",
    "version": 3
   },
   "file_extension": ".py",
   "mimetype": "text/x-python",
   "name": "python",
   "nbconvert_exporter": "python",
   "pygments_lexer": "ipython3",
   "version": "3.9.15"
  }
 },
 "nbformat": 4,
 "nbformat_minor": 5
}
