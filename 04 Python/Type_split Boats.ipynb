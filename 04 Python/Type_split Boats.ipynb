{
 "cells": [
  {
   "cell_type": "code",
   "execution_count": 26,
   "metadata": {},
   "outputs": [],
   "source": [
    "import pandas as pd\n",
    "\n",
    "#fuel types set \n",
    "fuel_types = ['Diesel', 'Electric', 'Unleaded', 'Display Model', 'Gas', 'Hybrid', 'Propane']\n",
    "#helper function to return the fuel type \n",
    "def fuel_split(type_and_fuel):\n",
    "    parts = type_and_fuel.split(',')\n",
    "    for item in parts:\n",
    "        if item in fuel_types:\n",
    "            return item\n",
    "    return None\n",
    "\n",
    "#read the csv with delimiter ;\n",
    "df = pd.read_csv('boat_sales_cleaned2.csv', delimiter=';')\n",
    "# create new Type_split column with only the boat type checking whether it is not a fuel type\n",
    "df['Type_split'] = df['Type'].apply(lambda x: x.split(',')[0] if not (x.split(',')[0] in fuel_types) else None)\n",
    "#create new Fuel column fith fuel type\n",
    "df['Fuel'] = df.apply(lambda row: fuel_split(row['Type']), axis=1)\n",
    "\n",
    "df.to_csv('boat_sales_split.csv')\n"
   ]
  },
  {
   "cell_type": "code",
   "execution_count": 27,
   "metadata": {},
   "outputs": [
    {
     "data": {
      "text/html": [
       "<div>\n",
       "<style scoped>\n",
       "    .dataframe tbody tr th:only-of-type {\n",
       "        vertical-align: middle;\n",
       "    }\n",
       "\n",
       "    .dataframe tbody tr th {\n",
       "        vertical-align: top;\n",
       "    }\n",
       "\n",
       "    .dataframe thead th {\n",
       "        text-align: right;\n",
       "    }\n",
       "</style>\n",
       "<table border=\"1\" class=\"dataframe\">\n",
       "  <thead>\n",
       "    <tr style=\"text-align: right;\">\n",
       "      <th></th>\n",
       "      <th>Unnamed: 0</th>\n",
       "      <th>Boat Type</th>\n",
       "      <th>Manufacturer</th>\n",
       "      <th>Type</th>\n",
       "      <th>Year Built</th>\n",
       "      <th>Length</th>\n",
       "      <th>Width</th>\n",
       "      <th>Material</th>\n",
       "      <th>Number of views last 7 days</th>\n",
       "      <th>EUR Price</th>\n",
       "      <th>Country</th>\n",
       "      <th>City</th>\n",
       "      <th>Pricing Category</th>\n",
       "      <th>Boat Class</th>\n",
       "      <th>Total_views</th>\n",
       "      <th>Type_split</th>\n",
       "      <th>Fuel</th>\n",
       "    </tr>\n",
       "  </thead>\n",
       "  <tbody>\n",
       "    <tr>\n",
       "      <th>0</th>\n",
       "      <td>1</td>\n",
       "      <td>Center console boat</td>\n",
       "      <td>Terhi power boats</td>\n",
       "      <td>new boat from stock</td>\n",
       "      <td>2020</td>\n",
       "      <td>4.0</td>\n",
       "      <td>1.May</td>\n",
       "      <td>Thermoplastic</td>\n",
       "      <td>75</td>\n",
       "      <td>3490.0</td>\n",
       "      <td>Germany</td>\n",
       "      <td>BÃ¶nningstedt</td>\n",
       "      <td>Low-priced</td>\n",
       "      <td>Class A</td>\n",
       "      <td>203469.0</td>\n",
       "      <td>new boat from stock</td>\n",
       "      <td>None</td>\n",
       "    </tr>\n",
       "    <tr>\n",
       "      <th>1</th>\n",
       "      <td>4</td>\n",
       "      <td>Fishing Boat</td>\n",
       "      <td>Linder power boats</td>\n",
       "      <td>new boat from stock</td>\n",
       "      <td>2019</td>\n",
       "      <td>Mar.55</td>\n",
       "      <td>Jan.46</td>\n",
       "      <td>Aluminium</td>\n",
       "      <td>58</td>\n",
       "      <td>3399.0</td>\n",
       "      <td>Germany</td>\n",
       "      <td>Bayern</td>\n",
       "      <td>Low-priced</td>\n",
       "      <td>Class A</td>\n",
       "      <td>203469.0</td>\n",
       "      <td>new boat from stock</td>\n",
       "      <td>None</td>\n",
       "    </tr>\n",
       "    <tr>\n",
       "      <th>2</th>\n",
       "      <td>10</td>\n",
       "      <td>Fishing Boat</td>\n",
       "      <td>Terhi power boats</td>\n",
       "      <td>Used boat,Electric</td>\n",
       "      <td>1987</td>\n",
       "      <td>Apr.35</td>\n",
       "      <td>Jan.75</td>\n",
       "      <td>GRP</td>\n",
       "      <td>239</td>\n",
       "      <td>3570.0</td>\n",
       "      <td>Switzerland</td>\n",
       "      <td>Seengen</td>\n",
       "      <td>Low-priced</td>\n",
       "      <td>Class A</td>\n",
       "      <td>316879.0</td>\n",
       "      <td>Used boat</td>\n",
       "      <td>Electric</td>\n",
       "    </tr>\n",
       "    <tr>\n",
       "      <th>3</th>\n",
       "      <td>12</td>\n",
       "      <td>Sport Boat</td>\n",
       "      <td>GS Nautica power boats</td>\n",
       "      <td>Used boat</td>\n",
       "      <td>2004</td>\n",
       "      <td>4.Jul</td>\n",
       "      <td>2.0</td>\n",
       "      <td>GRP</td>\n",
       "      <td>69</td>\n",
       "      <td>3500.0</td>\n",
       "      <td>Italy</td>\n",
       "      <td>Lake Garda</td>\n",
       "      <td>Low-priced</td>\n",
       "      <td>Class A</td>\n",
       "      <td>116749.0</td>\n",
       "      <td>Used boat</td>\n",
       "      <td>None</td>\n",
       "    </tr>\n",
       "    <tr>\n",
       "      <th>4</th>\n",
       "      <td>13</td>\n",
       "      <td>Runabout</td>\n",
       "      <td>Kimple power boats</td>\n",
       "      <td>new boat from stock</td>\n",
       "      <td>2020</td>\n",
       "      <td>4.Apr</td>\n",
       "      <td>Jan.65</td>\n",
       "      <td>Aluminium</td>\n",
       "      <td>113</td>\n",
       "      <td>4692.0</td>\n",
       "      <td>Switzerland</td>\n",
       "      <td>Zugersee</td>\n",
       "      <td>Low-priced</td>\n",
       "      <td>Class A</td>\n",
       "      <td>316879.0</td>\n",
       "      <td>new boat from stock</td>\n",
       "      <td>None</td>\n",
       "    </tr>\n",
       "  </tbody>\n",
       "</table>\n",
       "</div>"
      ],
      "text/plain": [
       "   Unnamed: 0            Boat Type            Manufacturer  \\\n",
       "0           1  Center console boat       Terhi power boats   \n",
       "1           4         Fishing Boat      Linder power boats   \n",
       "2          10         Fishing Boat       Terhi power boats   \n",
       "3          12           Sport Boat  GS Nautica power boats   \n",
       "4          13             Runabout      Kimple power boats   \n",
       "\n",
       "                  Type  Year Built  Length   Width       Material  \\\n",
       "0  new boat from stock        2020     4.0   1.May  Thermoplastic   \n",
       "1  new boat from stock        2019  Mar.55  Jan.46      Aluminium   \n",
       "2   Used boat,Electric        1987  Apr.35  Jan.75            GRP   \n",
       "3            Used boat        2004   4.Jul     2.0            GRP   \n",
       "4  new boat from stock        2020   4.Apr  Jan.65      Aluminium   \n",
       "\n",
       "   Number of views last 7 days  EUR Price       Country            City  \\\n",
       "0                           75     3490.0      Germany    BÃ¶nningstedt   \n",
       "1                           58     3399.0      Germany          Bayern    \n",
       "2                          239     3570.0  Switzerland          Seengen   \n",
       "3                           69     3500.0        Italy      Lake Garda    \n",
       "4                          113     4692.0  Switzerland        Zugersee    \n",
       "\n",
       "  Pricing Category Boat Class  Total_views           Type_split      Fuel  \n",
       "0       Low-priced    Class A     203469.0  new boat from stock      None  \n",
       "1       Low-priced    Class A     203469.0  new boat from stock      None  \n",
       "2       Low-priced    Class A     316879.0            Used boat  Electric  \n",
       "3       Low-priced    Class A     116749.0            Used boat      None  \n",
       "4       Low-priced    Class A     316879.0  new boat from stock      None  "
      ]
     },
     "execution_count": 27,
     "metadata": {},
     "output_type": "execute_result"
    }
   ],
   "source": [
    "df.head()"
   ]
  },
  {
   "cell_type": "code",
   "execution_count": 28,
   "metadata": {},
   "outputs": [
    {
     "data": {
      "text/plain": [
       "Diesel           2782\n",
       "Unleaded         2123\n",
       "Display Model      96\n",
       "Electric           30\n",
       "Gas                 9\n",
       "Hybrid              1\n",
       "Propane             1\n",
       "Name: Fuel, dtype: int64"
      ]
     },
     "execution_count": 28,
     "metadata": {},
     "output_type": "execute_result"
    }
   ],
   "source": [
    "df['Fuel'].value_counts()"
   ]
  },
  {
   "cell_type": "code",
   "execution_count": 29,
   "metadata": {},
   "outputs": [
    {
     "data": {
      "text/plain": [
       "Used boat              4509\n",
       "new boat from stock    1180\n",
       "new boat on order       187\n",
       "Name: Type_split, dtype: int64"
      ]
     },
     "execution_count": 29,
     "metadata": {},
     "output_type": "execute_result"
    }
   ],
   "source": [
    "df['Type_split'].value_counts()"
   ]
  }
 ],
 "metadata": {
  "kernelspec": {
   "display_name": "Python 3 (ipykernel)",
   "language": "python",
   "name": "python3"
  },
  "language_info": {
   "codemirror_mode": {
    "name": "ipython",
    "version": 3
   },
   "file_extension": ".py",
   "mimetype": "text/x-python",
   "name": "python",
   "nbconvert_exporter": "python",
   "pygments_lexer": "ipython3",
   "version": "3.9.15"
  },
  "vscode": {
   "interpreter": {
    "hash": "aee8b7b246df8f9039afb4144a1f6fd8d2ca17a180786b69acc140d282b71a49"
   }
  }
 },
 "nbformat": 4,
 "nbformat_minor": 2
}
