{
 "cells": [
  {
   "cell_type": "markdown",
   "id": "00207f80",
   "metadata": {},
   "source": [
    "# Boat Sales  \n",
    "\n",
    "Table of Contents\n",
    "1. ### Import libraries\n",
    "2. ### Import Data\n",
    "3. ### Data Wrangling  \n",
    "a. Change currency unit  \n",
    "b. Split the location to country and city  \n",
    "c. Drop the redundant columns  \n",
    "4. ### Data Cleaning nad Consistency Check  \n",
    "a. Check for missing data  \n",
    "b. Check for duplicates  \n",
    "c. Check for mixed data types  "
   ]
  },
  {
   "cell_type": "markdown",
   "id": "846062af",
   "metadata": {},
   "source": [
    "### 1. Import libraries"
   ]
  },
  {
   "cell_type": "code",
   "execution_count": 37,
   "id": "0d3cddb9",
   "metadata": {
    "ExecuteTime": {
     "end_time": "2022-12-22T13:35:54.937703Z",
     "start_time": "2022-12-22T13:35:54.927321Z"
    }
   },
   "outputs": [],
   "source": [
    "# Import libraries\n",
    "import pandas as pd\n",
    "import numpy as np\n",
    "import os"
   ]
  },
  {
   "cell_type": "code",
   "execution_count": 38,
   "id": "113a9451",
   "metadata": {
    "ExecuteTime": {
     "end_time": "2022-12-22T13:35:55.820527Z",
     "start_time": "2022-12-22T13:35:55.816272Z"
    }
   },
   "outputs": [],
   "source": [
    "# create path\n",
    "path = r'/Users/macbook/Library/CloudStorage/OneDrive-Personal/Data Analisys/Boat Sales'"
   ]
  },
  {
   "cell_type": "markdown",
   "id": "2dcfb204",
   "metadata": {},
   "source": [
    "### 2. Import Data"
   ]
  },
  {
   "cell_type": "code",
   "execution_count": 39,
   "id": "8151abd6",
   "metadata": {
    "ExecuteTime": {
     "end_time": "2022-12-22T13:35:56.716192Z",
     "start_time": "2022-12-22T13:35:56.663668Z"
    }
   },
   "outputs": [],
   "source": [
    "# import boat_data.csv\n",
    "df_boat = pd.read_csv(os.path.join(path, '02 Data', 'Original Data', 'boat_data.csv'), index_col = False)"
   ]
  },
  {
   "cell_type": "code",
   "execution_count": 40,
   "id": "99e9ee80",
   "metadata": {
    "ExecuteTime": {
     "end_time": "2022-12-22T13:35:56.908445Z",
     "start_time": "2022-12-22T13:35:56.885909Z"
    }
   },
   "outputs": [
    {
     "data": {
      "text/html": [
       "<div>\n",
       "<style scoped>\n",
       "    .dataframe tbody tr th:only-of-type {\n",
       "        vertical-align: middle;\n",
       "    }\n",
       "\n",
       "    .dataframe tbody tr th {\n",
       "        vertical-align: top;\n",
       "    }\n",
       "\n",
       "    .dataframe thead th {\n",
       "        text-align: right;\n",
       "    }\n",
       "</style>\n",
       "<table border=\"1\" class=\"dataframe\">\n",
       "  <thead>\n",
       "    <tr style=\"text-align: right;\">\n",
       "      <th></th>\n",
       "      <th>Price</th>\n",
       "      <th>Boat Type</th>\n",
       "      <th>Manufacturer</th>\n",
       "      <th>Type</th>\n",
       "      <th>Year Built</th>\n",
       "      <th>Length</th>\n",
       "      <th>Width</th>\n",
       "      <th>Material</th>\n",
       "      <th>Location</th>\n",
       "      <th>Number of views last 7 days</th>\n",
       "    </tr>\n",
       "  </thead>\n",
       "  <tbody>\n",
       "    <tr>\n",
       "      <th>0</th>\n",
       "      <td>CHF 3337</td>\n",
       "      <td>Motor Yacht</td>\n",
       "      <td>Rigiflex power boats</td>\n",
       "      <td>new boat from stock</td>\n",
       "      <td>2017</td>\n",
       "      <td>4.00</td>\n",
       "      <td>1.90</td>\n",
       "      <td>NaN</td>\n",
       "      <td>Switzerland Â» Lake Geneva Â» VÃ©senaz</td>\n",
       "      <td>226</td>\n",
       "    </tr>\n",
       "    <tr>\n",
       "      <th>1</th>\n",
       "      <td>EUR 3490</td>\n",
       "      <td>Center console boat</td>\n",
       "      <td>Terhi power boats</td>\n",
       "      <td>new boat from stock</td>\n",
       "      <td>2020</td>\n",
       "      <td>4.00</td>\n",
       "      <td>1.50</td>\n",
       "      <td>Thermoplastic</td>\n",
       "      <td>Germany Â» BÃ¶nningstedt</td>\n",
       "      <td>75</td>\n",
       "    </tr>\n",
       "    <tr>\n",
       "      <th>2</th>\n",
       "      <td>CHF 3770</td>\n",
       "      <td>Sport Boat</td>\n",
       "      <td>Marine power boats</td>\n",
       "      <td>new boat from stock</td>\n",
       "      <td>0</td>\n",
       "      <td>3.69</td>\n",
       "      <td>1.42</td>\n",
       "      <td>Aluminium</td>\n",
       "      <td>Switzerland Â» Lake of Zurich Â» StÃ¤fa ZH</td>\n",
       "      <td>124</td>\n",
       "    </tr>\n",
       "    <tr>\n",
       "      <th>3</th>\n",
       "      <td>DKK 25900</td>\n",
       "      <td>Sport Boat</td>\n",
       "      <td>Pioner power boats</td>\n",
       "      <td>new boat from stock</td>\n",
       "      <td>2020</td>\n",
       "      <td>3.00</td>\n",
       "      <td>1.00</td>\n",
       "      <td>NaN</td>\n",
       "      <td>Denmark Â» Svendborg</td>\n",
       "      <td>64</td>\n",
       "    </tr>\n",
       "    <tr>\n",
       "      <th>4</th>\n",
       "      <td>EUR 3399</td>\n",
       "      <td>Fishing Boat</td>\n",
       "      <td>Linder power boats</td>\n",
       "      <td>new boat from stock</td>\n",
       "      <td>2019</td>\n",
       "      <td>3.55</td>\n",
       "      <td>1.46</td>\n",
       "      <td>Aluminium</td>\n",
       "      <td>Germany Â» Bayern Â» MÃ¼nchen</td>\n",
       "      <td>58</td>\n",
       "    </tr>\n",
       "  </tbody>\n",
       "</table>\n",
       "</div>"
      ],
      "text/plain": [
       "       Price            Boat Type          Manufacturer                 Type  \\\n",
       "0   CHF 3337          Motor Yacht  Rigiflex power boats  new boat from stock   \n",
       "1   EUR 3490  Center console boat     Terhi power boats  new boat from stock   \n",
       "2   CHF 3770           Sport Boat    Marine power boats  new boat from stock   \n",
       "3  DKK 25900           Sport Boat    Pioner power boats  new boat from stock   \n",
       "4   EUR 3399         Fishing Boat    Linder power boats  new boat from stock   \n",
       "\n",
       "   Year Built  Length  Width       Material  \\\n",
       "0        2017    4.00   1.90            NaN   \n",
       "1        2020    4.00   1.50  Thermoplastic   \n",
       "2           0    3.69   1.42      Aluminium   \n",
       "3        2020    3.00   1.00            NaN   \n",
       "4        2019    3.55   1.46      Aluminium   \n",
       "\n",
       "                                     Location  Number of views last 7 days  \n",
       "0      Switzerland Â» Lake Geneva Â» VÃ©senaz                          226  \n",
       "1                    Germany Â» BÃ¶nningstedt                           75  \n",
       "2  Switzerland Â» Lake of Zurich Â» StÃ¤fa ZH                          124  \n",
       "3                        Denmark Â» Svendborg                           64  \n",
       "4               Germany Â» Bayern Â» MÃ¼nchen                           58  "
      ]
     },
     "execution_count": 40,
     "metadata": {},
     "output_type": "execute_result"
    }
   ],
   "source": [
    "df_boat.head()"
   ]
  },
  {
   "cell_type": "code",
   "execution_count": 41,
   "id": "c5c0e410",
   "metadata": {
    "ExecuteTime": {
     "end_time": "2022-12-22T13:35:57.163371Z",
     "start_time": "2022-12-22T13:35:57.158479Z"
    }
   },
   "outputs": [
    {
     "data": {
      "text/plain": [
       "(9888, 10)"
      ]
     },
     "execution_count": 41,
     "metadata": {},
     "output_type": "execute_result"
    }
   ],
   "source": [
    "# check the shape of the dataframe\n",
    "df_boat.shape"
   ]
  },
  {
   "cell_type": "code",
   "execution_count": 42,
   "id": "46b0ada0",
   "metadata": {
    "ExecuteTime": {
     "end_time": "2022-12-22T13:35:57.470533Z",
     "start_time": "2022-12-22T13:35:57.444162Z"
    }
   },
   "outputs": [
    {
     "name": "stdout",
     "output_type": "stream",
     "text": [
      "<class 'pandas.core.frame.DataFrame'>\n",
      "RangeIndex: 9888 entries, 0 to 9887\n",
      "Data columns (total 10 columns):\n",
      " #   Column                       Non-Null Count  Dtype  \n",
      "---  ------                       --------------  -----  \n",
      " 0   Price                        9888 non-null   object \n",
      " 1   Boat Type                    9888 non-null   object \n",
      " 2   Manufacturer                 8550 non-null   object \n",
      " 3   Type                         9882 non-null   object \n",
      " 4   Year Built                   9888 non-null   int64  \n",
      " 5   Length                       9879 non-null   float64\n",
      " 6   Width                        9832 non-null   float64\n",
      " 7   Material                     8139 non-null   object \n",
      " 8   Location                     9852 non-null   object \n",
      " 9   Number of views last 7 days  9888 non-null   int64  \n",
      "dtypes: float64(2), int64(2), object(6)\n",
      "memory usage: 772.6+ KB\n"
     ]
    }
   ],
   "source": [
    "# check the information of each column\n",
    "df_boat.info()"
   ]
  },
  {
   "cell_type": "code",
   "execution_count": 43,
   "id": "d386b3cd",
   "metadata": {
    "ExecuteTime": {
     "end_time": "2022-12-22T13:35:58.105512Z",
     "start_time": "2022-12-22T13:35:58.082318Z"
    }
   },
   "outputs": [
    {
     "data": {
      "text/html": [
       "<div>\n",
       "<style scoped>\n",
       "    .dataframe tbody tr th:only-of-type {\n",
       "        vertical-align: middle;\n",
       "    }\n",
       "\n",
       "    .dataframe tbody tr th {\n",
       "        vertical-align: top;\n",
       "    }\n",
       "\n",
       "    .dataframe thead th {\n",
       "        text-align: right;\n",
       "    }\n",
       "</style>\n",
       "<table border=\"1\" class=\"dataframe\">\n",
       "  <thead>\n",
       "    <tr style=\"text-align: right;\">\n",
       "      <th></th>\n",
       "      <th>Year Built</th>\n",
       "      <th>Length</th>\n",
       "      <th>Width</th>\n",
       "      <th>Number of views last 7 days</th>\n",
       "    </tr>\n",
       "  </thead>\n",
       "  <tbody>\n",
       "    <tr>\n",
       "      <th>count</th>\n",
       "      <td>9888.000000</td>\n",
       "      <td>9879.000000</td>\n",
       "      <td>9832.000000</td>\n",
       "      <td>9888.000000</td>\n",
       "    </tr>\n",
       "    <tr>\n",
       "      <th>mean</th>\n",
       "      <td>1893.192860</td>\n",
       "      <td>11.570017</td>\n",
       "      <td>3.520124</td>\n",
       "      <td>149.160801</td>\n",
       "    </tr>\n",
       "    <tr>\n",
       "      <th>std</th>\n",
       "      <td>460.201582</td>\n",
       "      <td>6.002820</td>\n",
       "      <td>1.220534</td>\n",
       "      <td>151.819752</td>\n",
       "    </tr>\n",
       "    <tr>\n",
       "      <th>min</th>\n",
       "      <td>0.000000</td>\n",
       "      <td>1.040000</td>\n",
       "      <td>0.010000</td>\n",
       "      <td>13.000000</td>\n",
       "    </tr>\n",
       "    <tr>\n",
       "      <th>25%</th>\n",
       "      <td>1996.000000</td>\n",
       "      <td>7.470000</td>\n",
       "      <td>2.540000</td>\n",
       "      <td>70.000000</td>\n",
       "    </tr>\n",
       "    <tr>\n",
       "      <th>50%</th>\n",
       "      <td>2007.000000</td>\n",
       "      <td>10.280000</td>\n",
       "      <td>3.330000</td>\n",
       "      <td>108.000000</td>\n",
       "    </tr>\n",
       "    <tr>\n",
       "      <th>75%</th>\n",
       "      <td>2017.000000</td>\n",
       "      <td>13.930000</td>\n",
       "      <td>4.250000</td>\n",
       "      <td>172.000000</td>\n",
       "    </tr>\n",
       "    <tr>\n",
       "      <th>max</th>\n",
       "      <td>2021.000000</td>\n",
       "      <td>100.000000</td>\n",
       "      <td>25.160000</td>\n",
       "      <td>3263.000000</td>\n",
       "    </tr>\n",
       "  </tbody>\n",
       "</table>\n",
       "</div>"
      ],
      "text/plain": [
       "        Year Built       Length        Width  Number of views last 7 days\n",
       "count  9888.000000  9879.000000  9832.000000                  9888.000000\n",
       "mean   1893.192860    11.570017     3.520124                   149.160801\n",
       "std     460.201582     6.002820     1.220534                   151.819752\n",
       "min       0.000000     1.040000     0.010000                    13.000000\n",
       "25%    1996.000000     7.470000     2.540000                    70.000000\n",
       "50%    2007.000000    10.280000     3.330000                   108.000000\n",
       "75%    2017.000000    13.930000     4.250000                   172.000000\n",
       "max    2021.000000   100.000000    25.160000                  3263.000000"
      ]
     },
     "execution_count": 43,
     "metadata": {},
     "output_type": "execute_result"
    }
   ],
   "source": [
    "df_boat.describe()"
   ]
  },
  {
   "cell_type": "markdown",
   "id": "2fc7c872",
   "metadata": {},
   "source": [
    "### 03 Data Wrangling"
   ]
  },
  {
   "cell_type": "code",
   "execution_count": 44,
   "id": "99897f0f",
   "metadata": {
    "ExecuteTime": {
     "end_time": "2022-12-22T13:35:58.716061Z",
     "start_time": "2022-12-22T13:35:58.706280Z"
    }
   },
   "outputs": [],
   "source": [
    "# change the currency to the same unit\n",
    "# split the price column\n",
    "df_boat['Currency'] = df_boat.loc[:,'Price'].str.slice(0,3)"
   ]
  },
  {
   "cell_type": "code",
   "execution_count": 45,
   "id": "2e750c1e",
   "metadata": {
    "ExecuteTime": {
     "end_time": "2022-12-22T13:35:58.965463Z",
     "start_time": "2022-12-22T13:35:58.957319Z"
    }
   },
   "outputs": [
    {
     "data": {
      "text/plain": [
       "EUR    8430\n",
       "CHF     980\n",
       "Â£      298\n",
       "DKK     180\n",
       "Name: Currency, dtype: int64"
      ]
     },
     "execution_count": 45,
     "metadata": {},
     "output_type": "execute_result"
    }
   ],
   "source": [
    "# count of curreny used\n",
    "df_boat['Currency'].value_counts(dropna = False)"
   ]
  },
  {
   "cell_type": "code",
   "execution_count": 46,
   "id": "0536494a",
   "metadata": {
    "ExecuteTime": {
     "end_time": "2022-12-22T13:35:59.284128Z",
     "start_time": "2022-12-22T13:35:59.223550Z"
    }
   },
   "outputs": [
    {
     "name": "stderr",
     "output_type": "stream",
     "text": [
      "/var/folders/w2/swqynjr91bldf6fp6tjyc9x80000gn/T/ipykernel_72906/2893569611.py:2: FutureWarning: The default value of regex will change from True to False in a future version.\n",
      "  df_boat['Price'] = df_boat['Price'].str.replace(r'[A-Z\\D\\W]', '')\n"
     ]
    }
   ],
   "source": [
    "# split the price \n",
    "df_boat['Price'] = df_boat['Price'].str.replace(r'[A-Z\\D\\W]', '')"
   ]
  },
  {
   "cell_type": "code",
   "execution_count": 47,
   "id": "73f489f2",
   "metadata": {
    "ExecuteTime": {
     "end_time": "2022-12-22T13:35:59.665076Z",
     "start_time": "2022-12-22T13:35:59.658456Z"
    }
   },
   "outputs": [],
   "source": [
    "# change data type of price to interger\n",
    "df_boat['Price'] = df_boat['Price'].astype('int')"
   ]
  },
  {
   "cell_type": "code",
   "execution_count": 48,
   "id": "7ca5a540",
   "metadata": {
    "ExecuteTime": {
     "end_time": "2022-12-22T13:36:01.390055Z",
     "start_time": "2022-12-22T13:36:01.200445Z"
    }
   },
   "outputs": [],
   "source": [
    "# convert currency\n",
    "def eurprice(Price,Currency):\n",
    "    if Currency=='CHF':\n",
    "        return Price * 1.02\n",
    "    elif Currency=='DKK':\n",
    "        return Price * 0.13\n",
    "    elif Currency=='Â£':\n",
    "        return Price * 1.17\n",
    "    else:\n",
    "        return Price\n",
    "df_boat['EUR Price'] = df_boat.apply(lambda x: eurprice(x.Price, x.Currency), axis=1)"
   ]
  },
  {
   "cell_type": "code",
   "execution_count": 49,
   "id": "27d71e5e",
   "metadata": {
    "ExecuteTime": {
     "end_time": "2022-12-22T13:36:02.358338Z",
     "start_time": "2022-12-22T13:36:02.341863Z"
    }
   },
   "outputs": [
    {
     "data": {
      "text/html": [
       "<div>\n",
       "<style scoped>\n",
       "    .dataframe tbody tr th:only-of-type {\n",
       "        vertical-align: middle;\n",
       "    }\n",
       "\n",
       "    .dataframe tbody tr th {\n",
       "        vertical-align: top;\n",
       "    }\n",
       "\n",
       "    .dataframe thead th {\n",
       "        text-align: right;\n",
       "    }\n",
       "</style>\n",
       "<table border=\"1\" class=\"dataframe\">\n",
       "  <thead>\n",
       "    <tr style=\"text-align: right;\">\n",
       "      <th></th>\n",
       "      <th>Price</th>\n",
       "      <th>Boat Type</th>\n",
       "      <th>Manufacturer</th>\n",
       "      <th>Type</th>\n",
       "      <th>Year Built</th>\n",
       "      <th>Length</th>\n",
       "      <th>Width</th>\n",
       "      <th>Material</th>\n",
       "      <th>Location</th>\n",
       "      <th>Number of views last 7 days</th>\n",
       "      <th>Currency</th>\n",
       "      <th>EUR Price</th>\n",
       "    </tr>\n",
       "  </thead>\n",
       "  <tbody>\n",
       "    <tr>\n",
       "      <th>0</th>\n",
       "      <td>3337</td>\n",
       "      <td>Motor Yacht</td>\n",
       "      <td>Rigiflex power boats</td>\n",
       "      <td>new boat from stock</td>\n",
       "      <td>2017</td>\n",
       "      <td>4.00</td>\n",
       "      <td>1.90</td>\n",
       "      <td>NaN</td>\n",
       "      <td>Switzerland Â» Lake Geneva Â» VÃ©senaz</td>\n",
       "      <td>226</td>\n",
       "      <td>CHF</td>\n",
       "      <td>3403.74</td>\n",
       "    </tr>\n",
       "    <tr>\n",
       "      <th>1</th>\n",
       "      <td>3490</td>\n",
       "      <td>Center console boat</td>\n",
       "      <td>Terhi power boats</td>\n",
       "      <td>new boat from stock</td>\n",
       "      <td>2020</td>\n",
       "      <td>4.00</td>\n",
       "      <td>1.50</td>\n",
       "      <td>Thermoplastic</td>\n",
       "      <td>Germany Â» BÃ¶nningstedt</td>\n",
       "      <td>75</td>\n",
       "      <td>EUR</td>\n",
       "      <td>3490.00</td>\n",
       "    </tr>\n",
       "    <tr>\n",
       "      <th>2</th>\n",
       "      <td>3770</td>\n",
       "      <td>Sport Boat</td>\n",
       "      <td>Marine power boats</td>\n",
       "      <td>new boat from stock</td>\n",
       "      <td>0</td>\n",
       "      <td>3.69</td>\n",
       "      <td>1.42</td>\n",
       "      <td>Aluminium</td>\n",
       "      <td>Switzerland Â» Lake of Zurich Â» StÃ¤fa ZH</td>\n",
       "      <td>124</td>\n",
       "      <td>CHF</td>\n",
       "      <td>3845.40</td>\n",
       "    </tr>\n",
       "    <tr>\n",
       "      <th>3</th>\n",
       "      <td>25900</td>\n",
       "      <td>Sport Boat</td>\n",
       "      <td>Pioner power boats</td>\n",
       "      <td>new boat from stock</td>\n",
       "      <td>2020</td>\n",
       "      <td>3.00</td>\n",
       "      <td>1.00</td>\n",
       "      <td>NaN</td>\n",
       "      <td>Denmark Â» Svendborg</td>\n",
       "      <td>64</td>\n",
       "      <td>DKK</td>\n",
       "      <td>3367.00</td>\n",
       "    </tr>\n",
       "    <tr>\n",
       "      <th>4</th>\n",
       "      <td>3399</td>\n",
       "      <td>Fishing Boat</td>\n",
       "      <td>Linder power boats</td>\n",
       "      <td>new boat from stock</td>\n",
       "      <td>2019</td>\n",
       "      <td>3.55</td>\n",
       "      <td>1.46</td>\n",
       "      <td>Aluminium</td>\n",
       "      <td>Germany Â» Bayern Â» MÃ¼nchen</td>\n",
       "      <td>58</td>\n",
       "      <td>EUR</td>\n",
       "      <td>3399.00</td>\n",
       "    </tr>\n",
       "  </tbody>\n",
       "</table>\n",
       "</div>"
      ],
      "text/plain": [
       "   Price            Boat Type          Manufacturer                 Type  \\\n",
       "0   3337          Motor Yacht  Rigiflex power boats  new boat from stock   \n",
       "1   3490  Center console boat     Terhi power boats  new boat from stock   \n",
       "2   3770           Sport Boat    Marine power boats  new boat from stock   \n",
       "3  25900           Sport Boat    Pioner power boats  new boat from stock   \n",
       "4   3399         Fishing Boat    Linder power boats  new boat from stock   \n",
       "\n",
       "   Year Built  Length  Width       Material  \\\n",
       "0        2017    4.00   1.90            NaN   \n",
       "1        2020    4.00   1.50  Thermoplastic   \n",
       "2           0    3.69   1.42      Aluminium   \n",
       "3        2020    3.00   1.00            NaN   \n",
       "4        2019    3.55   1.46      Aluminium   \n",
       "\n",
       "                                     Location  Number of views last 7 days  \\\n",
       "0      Switzerland Â» Lake Geneva Â» VÃ©senaz                          226   \n",
       "1                    Germany Â» BÃ¶nningstedt                           75   \n",
       "2  Switzerland Â» Lake of Zurich Â» StÃ¤fa ZH                          124   \n",
       "3                        Denmark Â» Svendborg                           64   \n",
       "4               Germany Â» Bayern Â» MÃ¼nchen                           58   \n",
       "\n",
       "  Currency  EUR Price  \n",
       "0      CHF    3403.74  \n",
       "1      EUR    3490.00  \n",
       "2      CHF    3845.40  \n",
       "3      DKK    3367.00  \n",
       "4      EUR    3399.00  "
      ]
     },
     "execution_count": 49,
     "metadata": {},
     "output_type": "execute_result"
    }
   ],
   "source": [
    "# check the dataframe\n",
    "df_boat.head()"
   ]
  },
  {
   "cell_type": "code",
   "execution_count": 50,
   "id": "aa93f7b9",
   "metadata": {
    "ExecuteTime": {
     "end_time": "2022-12-22T13:36:03.194120Z",
     "start_time": "2022-12-22T13:36:03.166184Z"
    }
   },
   "outputs": [],
   "source": [
    "# extract Country and City from Location\n",
    "df_boat[['Country','City','Standing_point']]= df_boat['Location'].str.split('Â»', 2, expand=True)"
   ]
  },
  {
   "cell_type": "code",
   "execution_count": 51,
   "id": "6e40867e",
   "metadata": {
    "ExecuteTime": {
     "end_time": "2022-12-22T13:36:04.188250Z",
     "start_time": "2022-12-22T13:36:04.171244Z"
    },
    "scrolled": true
   },
   "outputs": [
    {
     "data": {
      "text/html": [
       "<div>\n",
       "<style scoped>\n",
       "    .dataframe tbody tr th:only-of-type {\n",
       "        vertical-align: middle;\n",
       "    }\n",
       "\n",
       "    .dataframe tbody tr th {\n",
       "        vertical-align: top;\n",
       "    }\n",
       "\n",
       "    .dataframe thead th {\n",
       "        text-align: right;\n",
       "    }\n",
       "</style>\n",
       "<table border=\"1\" class=\"dataframe\">\n",
       "  <thead>\n",
       "    <tr style=\"text-align: right;\">\n",
       "      <th></th>\n",
       "      <th>Price</th>\n",
       "      <th>Boat Type</th>\n",
       "      <th>Manufacturer</th>\n",
       "      <th>Type</th>\n",
       "      <th>Year Built</th>\n",
       "      <th>Length</th>\n",
       "      <th>Width</th>\n",
       "      <th>Material</th>\n",
       "      <th>Location</th>\n",
       "      <th>Number of views last 7 days</th>\n",
       "      <th>Currency</th>\n",
       "      <th>EUR Price</th>\n",
       "      <th>Country</th>\n",
       "      <th>City</th>\n",
       "      <th>Standing_point</th>\n",
       "    </tr>\n",
       "  </thead>\n",
       "  <tbody>\n",
       "    <tr>\n",
       "      <th>0</th>\n",
       "      <td>3337</td>\n",
       "      <td>Motor Yacht</td>\n",
       "      <td>Rigiflex power boats</td>\n",
       "      <td>new boat from stock</td>\n",
       "      <td>2017</td>\n",
       "      <td>4.00</td>\n",
       "      <td>1.90</td>\n",
       "      <td>NaN</td>\n",
       "      <td>Switzerland Â» Lake Geneva Â» VÃ©senaz</td>\n",
       "      <td>226</td>\n",
       "      <td>CHF</td>\n",
       "      <td>3403.74</td>\n",
       "      <td>Switzerland</td>\n",
       "      <td>Lake Geneva</td>\n",
       "      <td>VÃ©senaz</td>\n",
       "    </tr>\n",
       "    <tr>\n",
       "      <th>1</th>\n",
       "      <td>3490</td>\n",
       "      <td>Center console boat</td>\n",
       "      <td>Terhi power boats</td>\n",
       "      <td>new boat from stock</td>\n",
       "      <td>2020</td>\n",
       "      <td>4.00</td>\n",
       "      <td>1.50</td>\n",
       "      <td>Thermoplastic</td>\n",
       "      <td>Germany Â» BÃ¶nningstedt</td>\n",
       "      <td>75</td>\n",
       "      <td>EUR</td>\n",
       "      <td>3490.00</td>\n",
       "      <td>Germany</td>\n",
       "      <td>BÃ¶nningstedt</td>\n",
       "      <td>None</td>\n",
       "    </tr>\n",
       "    <tr>\n",
       "      <th>2</th>\n",
       "      <td>3770</td>\n",
       "      <td>Sport Boat</td>\n",
       "      <td>Marine power boats</td>\n",
       "      <td>new boat from stock</td>\n",
       "      <td>0</td>\n",
       "      <td>3.69</td>\n",
       "      <td>1.42</td>\n",
       "      <td>Aluminium</td>\n",
       "      <td>Switzerland Â» Lake of Zurich Â» StÃ¤fa ZH</td>\n",
       "      <td>124</td>\n",
       "      <td>CHF</td>\n",
       "      <td>3845.40</td>\n",
       "      <td>Switzerland</td>\n",
       "      <td>Lake of Zurich</td>\n",
       "      <td>StÃ¤fa ZH</td>\n",
       "    </tr>\n",
       "    <tr>\n",
       "      <th>3</th>\n",
       "      <td>25900</td>\n",
       "      <td>Sport Boat</td>\n",
       "      <td>Pioner power boats</td>\n",
       "      <td>new boat from stock</td>\n",
       "      <td>2020</td>\n",
       "      <td>3.00</td>\n",
       "      <td>1.00</td>\n",
       "      <td>NaN</td>\n",
       "      <td>Denmark Â» Svendborg</td>\n",
       "      <td>64</td>\n",
       "      <td>DKK</td>\n",
       "      <td>3367.00</td>\n",
       "      <td>Denmark</td>\n",
       "      <td>Svendborg</td>\n",
       "      <td>None</td>\n",
       "    </tr>\n",
       "    <tr>\n",
       "      <th>4</th>\n",
       "      <td>3399</td>\n",
       "      <td>Fishing Boat</td>\n",
       "      <td>Linder power boats</td>\n",
       "      <td>new boat from stock</td>\n",
       "      <td>2019</td>\n",
       "      <td>3.55</td>\n",
       "      <td>1.46</td>\n",
       "      <td>Aluminium</td>\n",
       "      <td>Germany Â» Bayern Â» MÃ¼nchen</td>\n",
       "      <td>58</td>\n",
       "      <td>EUR</td>\n",
       "      <td>3399.00</td>\n",
       "      <td>Germany</td>\n",
       "      <td>Bayern</td>\n",
       "      <td>MÃ¼nchen</td>\n",
       "    </tr>\n",
       "  </tbody>\n",
       "</table>\n",
       "</div>"
      ],
      "text/plain": [
       "   Price            Boat Type          Manufacturer                 Type  \\\n",
       "0   3337          Motor Yacht  Rigiflex power boats  new boat from stock   \n",
       "1   3490  Center console boat     Terhi power boats  new boat from stock   \n",
       "2   3770           Sport Boat    Marine power boats  new boat from stock   \n",
       "3  25900           Sport Boat    Pioner power boats  new boat from stock   \n",
       "4   3399         Fishing Boat    Linder power boats  new boat from stock   \n",
       "\n",
       "   Year Built  Length  Width       Material  \\\n",
       "0        2017    4.00   1.90            NaN   \n",
       "1        2020    4.00   1.50  Thermoplastic   \n",
       "2           0    3.69   1.42      Aluminium   \n",
       "3        2020    3.00   1.00            NaN   \n",
       "4        2019    3.55   1.46      Aluminium   \n",
       "\n",
       "                                     Location  Number of views last 7 days  \\\n",
       "0      Switzerland Â» Lake Geneva Â» VÃ©senaz                          226   \n",
       "1                    Germany Â» BÃ¶nningstedt                           75   \n",
       "2  Switzerland Â» Lake of Zurich Â» StÃ¤fa ZH                          124   \n",
       "3                        Denmark Â» Svendborg                           64   \n",
       "4               Germany Â» Bayern Â» MÃ¼nchen                           58   \n",
       "\n",
       "  Currency  EUR Price       Country              City Standing_point  \n",
       "0      CHF    3403.74  Switzerland       Lake Geneva        VÃ©senaz  \n",
       "1      EUR    3490.00      Germany      BÃ¶nningstedt           None  \n",
       "2      CHF    3845.40  Switzerland    Lake of Zurich       StÃ¤fa ZH  \n",
       "3      DKK    3367.00      Denmark          Svendborg           None  \n",
       "4      EUR    3399.00      Germany            Bayern        MÃ¼nchen  "
      ]
     },
     "execution_count": 51,
     "metadata": {},
     "output_type": "execute_result"
    }
   ],
   "source": [
    "# check the dataframe\n",
    "df_boat.head()"
   ]
  },
  {
   "cell_type": "code",
   "execution_count": 52,
   "id": "509b30b1",
   "metadata": {
    "ExecuteTime": {
     "end_time": "2022-12-22T13:36:05.472169Z",
     "start_time": "2022-12-22T13:36:05.463319Z"
    }
   },
   "outputs": [],
   "source": [
    "# Drop the redundant columns\n",
    "df_boat = df_boat.drop(['Price','Currency','Location','Standing_point'], axis = 1)"
   ]
  },
  {
   "cell_type": "code",
   "execution_count": 53,
   "id": "377eabd2",
   "metadata": {
    "ExecuteTime": {
     "end_time": "2022-12-22T13:36:31.955291Z",
     "start_time": "2022-12-22T13:36:31.943737Z"
    }
   },
   "outputs": [
    {
     "data": {
      "text/html": [
       "<div>\n",
       "<style scoped>\n",
       "    .dataframe tbody tr th:only-of-type {\n",
       "        vertical-align: middle;\n",
       "    }\n",
       "\n",
       "    .dataframe tbody tr th {\n",
       "        vertical-align: top;\n",
       "    }\n",
       "\n",
       "    .dataframe thead th {\n",
       "        text-align: right;\n",
       "    }\n",
       "</style>\n",
       "<table border=\"1\" class=\"dataframe\">\n",
       "  <thead>\n",
       "    <tr style=\"text-align: right;\">\n",
       "      <th></th>\n",
       "      <th>Boat Type</th>\n",
       "      <th>Manufacturer</th>\n",
       "      <th>Type</th>\n",
       "      <th>Year Built</th>\n",
       "      <th>Length</th>\n",
       "      <th>Width</th>\n",
       "      <th>Material</th>\n",
       "      <th>Number of views last 7 days</th>\n",
       "      <th>EUR Price</th>\n",
       "      <th>Country</th>\n",
       "      <th>City</th>\n",
       "    </tr>\n",
       "  </thead>\n",
       "  <tbody>\n",
       "    <tr>\n",
       "      <th>0</th>\n",
       "      <td>Motor Yacht</td>\n",
       "      <td>Rigiflex power boats</td>\n",
       "      <td>new boat from stock</td>\n",
       "      <td>2017</td>\n",
       "      <td>4.00</td>\n",
       "      <td>1.90</td>\n",
       "      <td>NaN</td>\n",
       "      <td>226</td>\n",
       "      <td>3403.74</td>\n",
       "      <td>Switzerland</td>\n",
       "      <td>Lake Geneva</td>\n",
       "    </tr>\n",
       "    <tr>\n",
       "      <th>1</th>\n",
       "      <td>Center console boat</td>\n",
       "      <td>Terhi power boats</td>\n",
       "      <td>new boat from stock</td>\n",
       "      <td>2020</td>\n",
       "      <td>4.00</td>\n",
       "      <td>1.50</td>\n",
       "      <td>Thermoplastic</td>\n",
       "      <td>75</td>\n",
       "      <td>3490.00</td>\n",
       "      <td>Germany</td>\n",
       "      <td>BÃ¶nningstedt</td>\n",
       "    </tr>\n",
       "    <tr>\n",
       "      <th>2</th>\n",
       "      <td>Sport Boat</td>\n",
       "      <td>Marine power boats</td>\n",
       "      <td>new boat from stock</td>\n",
       "      <td>0</td>\n",
       "      <td>3.69</td>\n",
       "      <td>1.42</td>\n",
       "      <td>Aluminium</td>\n",
       "      <td>124</td>\n",
       "      <td>3845.40</td>\n",
       "      <td>Switzerland</td>\n",
       "      <td>Lake of Zurich</td>\n",
       "    </tr>\n",
       "    <tr>\n",
       "      <th>3</th>\n",
       "      <td>Sport Boat</td>\n",
       "      <td>Pioner power boats</td>\n",
       "      <td>new boat from stock</td>\n",
       "      <td>2020</td>\n",
       "      <td>3.00</td>\n",
       "      <td>1.00</td>\n",
       "      <td>NaN</td>\n",
       "      <td>64</td>\n",
       "      <td>3367.00</td>\n",
       "      <td>Denmark</td>\n",
       "      <td>Svendborg</td>\n",
       "    </tr>\n",
       "    <tr>\n",
       "      <th>4</th>\n",
       "      <td>Fishing Boat</td>\n",
       "      <td>Linder power boats</td>\n",
       "      <td>new boat from stock</td>\n",
       "      <td>2019</td>\n",
       "      <td>3.55</td>\n",
       "      <td>1.46</td>\n",
       "      <td>Aluminium</td>\n",
       "      <td>58</td>\n",
       "      <td>3399.00</td>\n",
       "      <td>Germany</td>\n",
       "      <td>Bayern</td>\n",
       "    </tr>\n",
       "  </tbody>\n",
       "</table>\n",
       "</div>"
      ],
      "text/plain": [
       "             Boat Type          Manufacturer                 Type  Year Built  \\\n",
       "0          Motor Yacht  Rigiflex power boats  new boat from stock        2017   \n",
       "1  Center console boat     Terhi power boats  new boat from stock        2020   \n",
       "2           Sport Boat    Marine power boats  new boat from stock           0   \n",
       "3           Sport Boat    Pioner power boats  new boat from stock        2020   \n",
       "4         Fishing Boat    Linder power boats  new boat from stock        2019   \n",
       "\n",
       "   Length  Width       Material  Number of views last 7 days  EUR Price  \\\n",
       "0    4.00   1.90            NaN                          226    3403.74   \n",
       "1    4.00   1.50  Thermoplastic                           75    3490.00   \n",
       "2    3.69   1.42      Aluminium                          124    3845.40   \n",
       "3    3.00   1.00            NaN                           64    3367.00   \n",
       "4    3.55   1.46      Aluminium                           58    3399.00   \n",
       "\n",
       "        Country              City  \n",
       "0  Switzerland       Lake Geneva   \n",
       "1      Germany      BÃ¶nningstedt  \n",
       "2  Switzerland    Lake of Zurich   \n",
       "3      Denmark          Svendborg  \n",
       "4      Germany            Bayern   "
      ]
     },
     "execution_count": 53,
     "metadata": {},
     "output_type": "execute_result"
    }
   ],
   "source": [
    "df_boat.head()"
   ]
  },
  {
   "cell_type": "markdown",
   "id": "2b62b786",
   "metadata": {},
   "source": [
    "### 04. Cleaning"
   ]
  },
  {
   "cell_type": "code",
   "execution_count": 54,
   "id": "adf86a2b",
   "metadata": {
    "ExecuteTime": {
     "end_time": "2022-12-22T13:37:42.057705Z",
     "start_time": "2022-12-22T13:37:42.035673Z"
    }
   },
   "outputs": [
    {
     "data": {
      "text/plain": [
       "Boat Type                         0\n",
       "Manufacturer                   1338\n",
       "Type                              6\n",
       "Year Built                        0\n",
       "Length                            9\n",
       "Width                            56\n",
       "Material                       1749\n",
       "Number of views last 7 days       0\n",
       "EUR Price                         0\n",
       "Country                          36\n",
       "City                            943\n",
       "dtype: int64"
      ]
     },
     "execution_count": 54,
     "metadata": {},
     "output_type": "execute_result"
    }
   ],
   "source": [
    "# check for missing values\n",
    "df_boat.isnull().sum()"
   ]
  },
  {
   "cell_type": "code",
   "execution_count": 56,
   "id": "b29df8b9",
   "metadata": {
    "ExecuteTime": {
     "end_time": "2022-12-22T13:39:04.779264Z",
     "start_time": "2022-12-22T13:39:04.770352Z"
    }
   },
   "outputs": [],
   "source": [
    "# fill the Length and Width missing valus with median\n",
    "df_boat['Length'] = df_boat['Length'].fillna(df_boat['Length'].median())\n",
    "df_boat['Width'] = df_boat['Width'].fillna(df_boat['Width'].median())"
   ]
  },
  {
   "cell_type": "code",
   "execution_count": 57,
   "id": "e05ec7d4",
   "metadata": {
    "ExecuteTime": {
     "end_time": "2022-12-22T13:39:31.499009Z",
     "start_time": "2022-12-22T13:39:31.477452Z"
    }
   },
   "outputs": [],
   "source": [
    "# drop the other missing values\n",
    "df_boat_clean = df_boat.dropna()"
   ]
  },
  {
   "cell_type": "code",
   "execution_count": 58,
   "id": "649a3b65",
   "metadata": {
    "ExecuteTime": {
     "end_time": "2022-12-22T13:39:52.991306Z",
     "start_time": "2022-12-22T13:39:52.983658Z"
    }
   },
   "outputs": [
    {
     "data": {
      "text/plain": [
       "(6394, 11)"
      ]
     },
     "execution_count": 58,
     "metadata": {},
     "output_type": "execute_result"
    }
   ],
   "source": [
    "# check the shape of the clean dataframe\n",
    "df_boat_clean.shape"
   ]
  },
  {
   "cell_type": "code",
   "execution_count": 59,
   "id": "9873e694",
   "metadata": {
    "ExecuteTime": {
     "end_time": "2022-12-22T13:40:13.479789Z",
     "start_time": "2022-12-22T13:40:13.466340Z"
    }
   },
   "outputs": [
    {
     "data": {
      "text/plain": [
       "Boat Type                      0\n",
       "Manufacturer                   0\n",
       "Type                           0\n",
       "Year Built                     0\n",
       "Length                         0\n",
       "Width                          0\n",
       "Material                       0\n",
       "Number of views last 7 days    0\n",
       "EUR Price                      0\n",
       "Country                        0\n",
       "City                           0\n",
       "dtype: int64"
      ]
     },
     "execution_count": 59,
     "metadata": {},
     "output_type": "execute_result"
    }
   ],
   "source": [
    "#check for missing values\n",
    "df_boat_clean.isnull().sum()"
   ]
  },
  {
   "cell_type": "code",
   "execution_count": 61,
   "id": "073a29b1",
   "metadata": {
    "ExecuteTime": {
     "end_time": "2022-12-22T13:40:37.935938Z",
     "start_time": "2022-12-22T13:40:37.910051Z"
    }
   },
   "outputs": [
    {
     "data": {
      "text/html": [
       "<div>\n",
       "<style scoped>\n",
       "    .dataframe tbody tr th:only-of-type {\n",
       "        vertical-align: middle;\n",
       "    }\n",
       "\n",
       "    .dataframe tbody tr th {\n",
       "        vertical-align: top;\n",
       "    }\n",
       "\n",
       "    .dataframe thead th {\n",
       "        text-align: right;\n",
       "    }\n",
       "</style>\n",
       "<table border=\"1\" class=\"dataframe\">\n",
       "  <thead>\n",
       "    <tr style=\"text-align: right;\">\n",
       "      <th></th>\n",
       "      <th>Year Built</th>\n",
       "      <th>Length</th>\n",
       "      <th>Width</th>\n",
       "      <th>Number of views last 7 days</th>\n",
       "      <th>EUR Price</th>\n",
       "    </tr>\n",
       "  </thead>\n",
       "  <tbody>\n",
       "    <tr>\n",
       "      <th>count</th>\n",
       "      <td>6394.000000</td>\n",
       "      <td>6394.000000</td>\n",
       "      <td>6394.000000</td>\n",
       "      <td>6394.000000</td>\n",
       "      <td>6.394000e+03</td>\n",
       "    </tr>\n",
       "    <tr>\n",
       "      <th>mean</th>\n",
       "      <td>1883.440413</td>\n",
       "      <td>10.670658</td>\n",
       "      <td>3.355988</td>\n",
       "      <td>163.303722</td>\n",
       "      <td>2.296528e+05</td>\n",
       "    </tr>\n",
       "    <tr>\n",
       "      <th>std</th>\n",
       "      <td>482.188034</td>\n",
       "      <td>4.812833</td>\n",
       "      <td>1.068479</td>\n",
       "      <td>167.676332</td>\n",
       "      <td>6.215380e+05</td>\n",
       "    </tr>\n",
       "    <tr>\n",
       "      <th>min</th>\n",
       "      <td>0.000000</td>\n",
       "      <td>1.980000</td>\n",
       "      <td>0.860000</td>\n",
       "      <td>15.000000</td>\n",
       "      <td>3.399000e+03</td>\n",
       "    </tr>\n",
       "    <tr>\n",
       "      <th>25%</th>\n",
       "      <td>1997.000000</td>\n",
       "      <td>7.200000</td>\n",
       "      <td>2.520000</td>\n",
       "      <td>73.000000</td>\n",
       "      <td>4.190000e+04</td>\n",
       "    </tr>\n",
       "    <tr>\n",
       "      <th>50%</th>\n",
       "      <td>2008.000000</td>\n",
       "      <td>9.640000</td>\n",
       "      <td>3.100000</td>\n",
       "      <td>115.000000</td>\n",
       "      <td>8.500000e+04</td>\n",
       "    </tr>\n",
       "    <tr>\n",
       "      <th>75%</th>\n",
       "      <td>2018.000000</td>\n",
       "      <td>13.060000</td>\n",
       "      <td>4.050000</td>\n",
       "      <td>191.000000</td>\n",
       "      <td>2.150000e+05</td>\n",
       "    </tr>\n",
       "    <tr>\n",
       "      <th>max</th>\n",
       "      <td>2021.000000</td>\n",
       "      <td>56.000000</td>\n",
       "      <td>16.000000</td>\n",
       "      <td>3263.000000</td>\n",
       "      <td>2.350000e+07</td>\n",
       "    </tr>\n",
       "  </tbody>\n",
       "</table>\n",
       "</div>"
      ],
      "text/plain": [
       "        Year Built       Length        Width  Number of views last 7 days  \\\n",
       "count  6394.000000  6394.000000  6394.000000                  6394.000000   \n",
       "mean   1883.440413    10.670658     3.355988                   163.303722   \n",
       "std     482.188034     4.812833     1.068479                   167.676332   \n",
       "min       0.000000     1.980000     0.860000                    15.000000   \n",
       "25%    1997.000000     7.200000     2.520000                    73.000000   \n",
       "50%    2008.000000     9.640000     3.100000                   115.000000   \n",
       "75%    2018.000000    13.060000     4.050000                   191.000000   \n",
       "max    2021.000000    56.000000    16.000000                  3263.000000   \n",
       "\n",
       "          EUR Price  \n",
       "count  6.394000e+03  \n",
       "mean   2.296528e+05  \n",
       "std    6.215380e+05  \n",
       "min    3.399000e+03  \n",
       "25%    4.190000e+04  \n",
       "50%    8.500000e+04  \n",
       "75%    2.150000e+05  \n",
       "max    2.350000e+07  "
      ]
     },
     "execution_count": 61,
     "metadata": {},
     "output_type": "execute_result"
    }
   ],
   "source": [
    "# check for basic statistics\n",
    "df_boat_clean.describe()"
   ]
  },
  {
   "cell_type": "code",
   "execution_count": 64,
   "id": "62346073",
   "metadata": {
    "ExecuteTime": {
     "end_time": "2022-12-22T13:41:24.756130Z",
     "start_time": "2022-12-22T13:41:24.749495Z"
    }
   },
   "outputs": [],
   "source": [
    "# drop the years with 0\n",
    "df_boat_clean = df_boat_clean[df_boat_clean['Year Built']!=0]"
   ]
  },
  {
   "cell_type": "code",
   "execution_count": 65,
   "id": "3f59348a",
   "metadata": {
    "ExecuteTime": {
     "end_time": "2022-12-22T13:42:17.039368Z",
     "start_time": "2022-12-22T13:42:17.016195Z"
    }
   },
   "outputs": [
    {
     "data": {
      "text/html": [
       "<div>\n",
       "<style scoped>\n",
       "    .dataframe tbody tr th:only-of-type {\n",
       "        vertical-align: middle;\n",
       "    }\n",
       "\n",
       "    .dataframe tbody tr th {\n",
       "        vertical-align: top;\n",
       "    }\n",
       "\n",
       "    .dataframe thead th {\n",
       "        text-align: right;\n",
       "    }\n",
       "</style>\n",
       "<table border=\"1\" class=\"dataframe\">\n",
       "  <thead>\n",
       "    <tr style=\"text-align: right;\">\n",
       "      <th></th>\n",
       "      <th>Year Built</th>\n",
       "      <th>Length</th>\n",
       "      <th>Width</th>\n",
       "      <th>Number of views last 7 days</th>\n",
       "      <th>EUR Price</th>\n",
       "    </tr>\n",
       "  </thead>\n",
       "  <tbody>\n",
       "    <tr>\n",
       "      <th>count</th>\n",
       "      <td>6001.000000</td>\n",
       "      <td>6001.000000</td>\n",
       "      <td>6001.000000</td>\n",
       "      <td>6001.00000</td>\n",
       "      <td>6.001000e+03</td>\n",
       "    </tr>\n",
       "    <tr>\n",
       "      <th>mean</th>\n",
       "      <td>2006.785202</td>\n",
       "      <td>10.834531</td>\n",
       "      <td>3.393046</td>\n",
       "      <td>165.18047</td>\n",
       "      <td>2.346750e+05</td>\n",
       "    </tr>\n",
       "    <tr>\n",
       "      <th>std</th>\n",
       "      <td>12.909093</td>\n",
       "      <td>4.847406</td>\n",
       "      <td>1.071161</td>\n",
       "      <td>171.31140</td>\n",
       "      <td>6.378699e+05</td>\n",
       "    </tr>\n",
       "    <tr>\n",
       "      <th>min</th>\n",
       "      <td>1901.000000</td>\n",
       "      <td>2.320000</td>\n",
       "      <td>0.860000</td>\n",
       "      <td>15.00000</td>\n",
       "      <td>3.399000e+03</td>\n",
       "    </tr>\n",
       "    <tr>\n",
       "      <th>25%</th>\n",
       "      <td>2000.000000</td>\n",
       "      <td>7.350000</td>\n",
       "      <td>2.540000</td>\n",
       "      <td>74.00000</td>\n",
       "      <td>4.290000e+04</td>\n",
       "    </tr>\n",
       "    <tr>\n",
       "      <th>50%</th>\n",
       "      <td>2008.000000</td>\n",
       "      <td>9.880000</td>\n",
       "      <td>3.200000</td>\n",
       "      <td>115.00000</td>\n",
       "      <td>8.700000e+04</td>\n",
       "    </tr>\n",
       "    <tr>\n",
       "      <th>75%</th>\n",
       "      <td>2018.000000</td>\n",
       "      <td>13.240000</td>\n",
       "      <td>4.100000</td>\n",
       "      <td>193.00000</td>\n",
       "      <td>2.190000e+05</td>\n",
       "    </tr>\n",
       "    <tr>\n",
       "      <th>max</th>\n",
       "      <td>2021.000000</td>\n",
       "      <td>56.000000</td>\n",
       "      <td>16.000000</td>\n",
       "      <td>3263.00000</td>\n",
       "      <td>2.350000e+07</td>\n",
       "    </tr>\n",
       "  </tbody>\n",
       "</table>\n",
       "</div>"
      ],
      "text/plain": [
       "        Year Built       Length        Width  Number of views last 7 days  \\\n",
       "count  6001.000000  6001.000000  6001.000000                   6001.00000   \n",
       "mean   2006.785202    10.834531     3.393046                    165.18047   \n",
       "std      12.909093     4.847406     1.071161                    171.31140   \n",
       "min    1901.000000     2.320000     0.860000                     15.00000   \n",
       "25%    2000.000000     7.350000     2.540000                     74.00000   \n",
       "50%    2008.000000     9.880000     3.200000                    115.00000   \n",
       "75%    2018.000000    13.240000     4.100000                    193.00000   \n",
       "max    2021.000000    56.000000    16.000000                   3263.00000   \n",
       "\n",
       "          EUR Price  \n",
       "count  6.001000e+03  \n",
       "mean   2.346750e+05  \n",
       "std    6.378699e+05  \n",
       "min    3.399000e+03  \n",
       "25%    4.290000e+04  \n",
       "50%    8.700000e+04  \n",
       "75%    2.190000e+05  \n",
       "max    2.350000e+07  "
      ]
     },
     "execution_count": 65,
     "metadata": {},
     "output_type": "execute_result"
    }
   ],
   "source": [
    "# check for basic statistics\n",
    "df_boat_clean.describe()"
   ]
  },
  {
   "cell_type": "code",
   "execution_count": 66,
   "id": "03c94288",
   "metadata": {
    "ExecuteTime": {
     "end_time": "2022-12-22T13:42:54.924752Z",
     "start_time": "2022-12-22T13:42:54.907425Z"
    }
   },
   "outputs": [],
   "source": [
    "# check for duplicates\n",
    "df_boat_clean_dups = df_boat_clean[df_boat_clean.duplicated()]"
   ]
  },
  {
   "cell_type": "code",
   "execution_count": 67,
   "id": "d352523a",
   "metadata": {
    "ExecuteTime": {
     "end_time": "2022-12-22T13:43:15.866121Z",
     "start_time": "2022-12-22T13:43:15.854271Z"
    }
   },
   "outputs": [
    {
     "data": {
      "text/html": [
       "<div>\n",
       "<style scoped>\n",
       "    .dataframe tbody tr th:only-of-type {\n",
       "        vertical-align: middle;\n",
       "    }\n",
       "\n",
       "    .dataframe tbody tr th {\n",
       "        vertical-align: top;\n",
       "    }\n",
       "\n",
       "    .dataframe thead th {\n",
       "        text-align: right;\n",
       "    }\n",
       "</style>\n",
       "<table border=\"1\" class=\"dataframe\">\n",
       "  <thead>\n",
       "    <tr style=\"text-align: right;\">\n",
       "      <th></th>\n",
       "      <th>Boat Type</th>\n",
       "      <th>Manufacturer</th>\n",
       "      <th>Type</th>\n",
       "      <th>Year Built</th>\n",
       "      <th>Length</th>\n",
       "      <th>Width</th>\n",
       "      <th>Material</th>\n",
       "      <th>Number of views last 7 days</th>\n",
       "      <th>EUR Price</th>\n",
       "      <th>Country</th>\n",
       "      <th>City</th>\n",
       "    </tr>\n",
       "  </thead>\n",
       "  <tbody>\n",
       "  </tbody>\n",
       "</table>\n",
       "</div>"
      ],
      "text/plain": [
       "Empty DataFrame\n",
       "Columns: [Boat Type, Manufacturer, Type, Year Built, Length, Width, Material, Number of views last 7 days, EUR Price, Country, City]\n",
       "Index: []"
      ]
     },
     "execution_count": 67,
     "metadata": {},
     "output_type": "execute_result"
    }
   ],
   "source": [
    "df_boat_clean_dups"
   ]
  },
  {
   "cell_type": "code",
   "execution_count": 68,
   "id": "df183a96",
   "metadata": {
    "ExecuteTime": {
     "end_time": "2022-12-22T13:44:05.728071Z",
     "start_time": "2022-12-22T13:44:05.667660Z"
    }
   },
   "outputs": [],
   "source": [
    "# check for mixed data type\n",
    "for col in df_boat_clean.columns.tolist():\n",
    "  weird = (df_boat_clean[[col]].applymap(type) != df_boat_clean[[col]].iloc[0].apply(type)).any(axis = 1)\n",
    "  if len (df_boat_clean[weird]) > 0:\n",
    "    print (col)"
   ]
  },
  {
   "cell_type": "code",
   "execution_count": 69,
   "id": "4cd87c36",
   "metadata": {
    "ExecuteTime": {
     "end_time": "2022-12-22T13:44:27.992313Z",
     "start_time": "2022-12-22T13:44:27.986566Z"
    }
   },
   "outputs": [
    {
     "data": {
      "text/plain": [
       "(6001, 11)"
      ]
     },
     "execution_count": 69,
     "metadata": {},
     "output_type": "execute_result"
    }
   ],
   "source": [
    "# check for the shape of the cleaned dataframe\n",
    "df_boat_clean.shape"
   ]
  },
  {
   "cell_type": "markdown",
   "id": "2ff9a5b9",
   "metadata": {},
   "source": [
    "### Export clean dataframe"
   ]
  },
  {
   "cell_type": "code",
   "execution_count": 70,
   "id": "9216883a",
   "metadata": {
    "ExecuteTime": {
     "end_time": "2022-12-22T13:45:58.614843Z",
     "start_time": "2022-12-22T13:45:58.553284Z"
    }
   },
   "outputs": [],
   "source": [
    "df_boat_clean.to_csv(os.path.join(path, '02 Data', 'Prepared Data', 'boat_data_cleaned.csv'))"
   ]
  }
 ],
 "metadata": {
  "kernelspec": {
   "display_name": "Python 3 (ipykernel)",
   "language": "python",
   "name": "python3"
  },
  "language_info": {
   "codemirror_mode": {
    "name": "ipython",
    "version": 3
   },
   "file_extension": ".py",
   "mimetype": "text/x-python",
   "name": "python",
   "nbconvert_exporter": "python",
   "pygments_lexer": "ipython3",
   "version": "3.9.15"
  }
 },
 "nbformat": 4,
 "nbformat_minor": 5
}
